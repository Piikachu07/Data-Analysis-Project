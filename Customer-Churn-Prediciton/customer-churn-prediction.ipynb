{
 "cells": [
  {
   "cell_type": "raw",
   "id": "296dfee3",
   "metadata": {
    "_cell_guid": "b1076dfc-b9ad-4769-8c92-a6c4dae69d19",
    "_uuid": "8f2839f25d086af736a60e9eeb907d3b93b6e0e5",
    "papermill": {
     "duration": 0.011201,
     "end_time": "2024-10-10T07:13:43.931492",
     "exception": false,
     "start_time": "2024-10-10T07:13:43.920291",
     "status": "completed"
    },
    "tags": []
   },
   "source": [
    "# This Python 3 environment comes with many helpful analytics libraries installed\n",
    "# It is defined by the kaggle/python Docker image: https://github.com/kaggle/docker-python\n",
    "# For example, here's several helpful packages to load\n",
    "\n",
    "import numpy as np # linear algebra\n",
    "import pandas as pd # data processing, CSV file I/O (e.g. pd.read_csv)\n",
    "\n",
    "# Input data files are available in the read-only \"../input/\" directory\n",
    "# For example, running this (by clicking run or pressing Shift+Enter) will list all files under the input directory\n",
    "\n",
    "import os\n",
    "for dirname, _, filenames in os.walk('/kaggle/input'):\n",
    "    for filename in filenames:\n",
    "        print(os.path.join(dirname, filename))\n",
    "\n",
    "# You can write up to 20GB to the current directory (/kaggle/working/) that gets preserved as output when you create a version using \"Save & Run All\" \n",
    "# You can also write temporary files to /kaggle/temp/, but they won't be saved outside of the current session"
   ]
  },
  {
   "cell_type": "markdown",
   "id": "4fe645f7",
   "metadata": {
    "papermill": {
     "duration": 0.010644,
     "end_time": "2024-10-10T07:13:43.952284",
     "exception": false,
     "start_time": "2024-10-10T07:13:43.941640",
     "status": "completed"
    },
    "tags": []
   },
   "source": [
    "## Customer Churn Prediction using ANN | Keras and Tensorflow\n",
    "\n",
    "Customer Churn Prediction using Artificial Neural Networks (ANN) involves building a model to forecast whether a customer is likely to leave or continue using a service. The ANN learns from historical data, considering factors like usage patterns, customer interactions, and feedback to make predictions."
   ]
  },
  {
   "cell_type": "code",
   "execution_count": 1,
   "id": "908fbac6",
   "metadata": {
    "execution": {
     "iopub.execute_input": "2024-10-10T07:13:43.973706Z",
     "iopub.status.busy": "2024-10-10T07:13:43.973190Z",
     "iopub.status.idle": "2024-10-10T07:13:44.932120Z",
     "shell.execute_reply": "2024-10-10T07:13:44.930853Z"
    },
    "papermill": {
     "duration": 0.972839,
     "end_time": "2024-10-10T07:13:44.934918",
     "exception": false,
     "start_time": "2024-10-10T07:13:43.962079",
     "status": "completed"
    },
    "tags": []
   },
   "outputs": [
    {
     "name": "stdout",
     "output_type": "stream",
     "text": [
      "/kaggle/input/credit-card-customer-churn-prediction/Churn_Modelling.csv\n"
     ]
    }
   ],
   "source": [
    "import numpy as np # linear algebra\n",
    "import pandas as pd # data processing\n",
    "\n",
    "import os\n",
    "for dirname, _, filenames in os.walk('/kaggle/input'):\n",
    "    for filename in filenames:\n",
    "        print(os.path.join(dirname, filename))"
   ]
  },
  {
   "cell_type": "code",
   "execution_count": 2,
   "id": "9fae0a03",
   "metadata": {
    "execution": {
     "iopub.execute_input": "2024-10-10T07:13:44.958642Z",
     "iopub.status.busy": "2024-10-10T07:13:44.957633Z",
     "iopub.status.idle": "2024-10-10T07:13:45.002073Z",
     "shell.execute_reply": "2024-10-10T07:13:45.000771Z"
    },
    "papermill": {
     "duration": 0.058805,
     "end_time": "2024-10-10T07:13:45.004685",
     "exception": false,
     "start_time": "2024-10-10T07:13:44.945880",
     "status": "completed"
    },
    "tags": []
   },
   "outputs": [],
   "source": [
    "df = pd.read_csv('/kaggle/input/credit-card-customer-churn-prediction/Churn_Modelling.csv')"
   ]
  },
  {
   "cell_type": "code",
   "execution_count": 3,
   "id": "94297051",
   "metadata": {
    "execution": {
     "iopub.execute_input": "2024-10-10T07:13:45.026405Z",
     "iopub.status.busy": "2024-10-10T07:13:45.026013Z",
     "iopub.status.idle": "2024-10-10T07:13:45.054081Z",
     "shell.execute_reply": "2024-10-10T07:13:45.053001Z"
    },
    "papermill": {
     "duration": 0.041938,
     "end_time": "2024-10-10T07:13:45.056735",
     "exception": false,
     "start_time": "2024-10-10T07:13:45.014797",
     "status": "completed"
    },
    "tags": []
   },
   "outputs": [
    {
     "data": {
      "text/html": [
       "<div>\n",
       "<style scoped>\n",
       "    .dataframe tbody tr th:only-of-type {\n",
       "        vertical-align: middle;\n",
       "    }\n",
       "\n",
       "    .dataframe tbody tr th {\n",
       "        vertical-align: top;\n",
       "    }\n",
       "\n",
       "    .dataframe thead th {\n",
       "        text-align: right;\n",
       "    }\n",
       "</style>\n",
       "<table border=\"1\" class=\"dataframe\">\n",
       "  <thead>\n",
       "    <tr style=\"text-align: right;\">\n",
       "      <th></th>\n",
       "      <th>RowNumber</th>\n",
       "      <th>CustomerId</th>\n",
       "      <th>Surname</th>\n",
       "      <th>CreditScore</th>\n",
       "      <th>Geography</th>\n",
       "      <th>Gender</th>\n",
       "      <th>Age</th>\n",
       "      <th>Tenure</th>\n",
       "      <th>Balance</th>\n",
       "      <th>NumOfProducts</th>\n",
       "      <th>HasCrCard</th>\n",
       "      <th>IsActiveMember</th>\n",
       "      <th>EstimatedSalary</th>\n",
       "      <th>Exited</th>\n",
       "    </tr>\n",
       "  </thead>\n",
       "  <tbody>\n",
       "    <tr>\n",
       "      <th>0</th>\n",
       "      <td>1</td>\n",
       "      <td>15634602</td>\n",
       "      <td>Hargrave</td>\n",
       "      <td>619</td>\n",
       "      <td>France</td>\n",
       "      <td>Female</td>\n",
       "      <td>42</td>\n",
       "      <td>2</td>\n",
       "      <td>0.00</td>\n",
       "      <td>1</td>\n",
       "      <td>1</td>\n",
       "      <td>1</td>\n",
       "      <td>101348.88</td>\n",
       "      <td>1</td>\n",
       "    </tr>\n",
       "    <tr>\n",
       "      <th>1</th>\n",
       "      <td>2</td>\n",
       "      <td>15647311</td>\n",
       "      <td>Hill</td>\n",
       "      <td>608</td>\n",
       "      <td>Spain</td>\n",
       "      <td>Female</td>\n",
       "      <td>41</td>\n",
       "      <td>1</td>\n",
       "      <td>83807.86</td>\n",
       "      <td>1</td>\n",
       "      <td>0</td>\n",
       "      <td>1</td>\n",
       "      <td>112542.58</td>\n",
       "      <td>0</td>\n",
       "    </tr>\n",
       "    <tr>\n",
       "      <th>2</th>\n",
       "      <td>3</td>\n",
       "      <td>15619304</td>\n",
       "      <td>Onio</td>\n",
       "      <td>502</td>\n",
       "      <td>France</td>\n",
       "      <td>Female</td>\n",
       "      <td>42</td>\n",
       "      <td>8</td>\n",
       "      <td>159660.80</td>\n",
       "      <td>3</td>\n",
       "      <td>1</td>\n",
       "      <td>0</td>\n",
       "      <td>113931.57</td>\n",
       "      <td>1</td>\n",
       "    </tr>\n",
       "    <tr>\n",
       "      <th>3</th>\n",
       "      <td>4</td>\n",
       "      <td>15701354</td>\n",
       "      <td>Boni</td>\n",
       "      <td>699</td>\n",
       "      <td>France</td>\n",
       "      <td>Female</td>\n",
       "      <td>39</td>\n",
       "      <td>1</td>\n",
       "      <td>0.00</td>\n",
       "      <td>2</td>\n",
       "      <td>0</td>\n",
       "      <td>0</td>\n",
       "      <td>93826.63</td>\n",
       "      <td>0</td>\n",
       "    </tr>\n",
       "    <tr>\n",
       "      <th>4</th>\n",
       "      <td>5</td>\n",
       "      <td>15737888</td>\n",
       "      <td>Mitchell</td>\n",
       "      <td>850</td>\n",
       "      <td>Spain</td>\n",
       "      <td>Female</td>\n",
       "      <td>43</td>\n",
       "      <td>2</td>\n",
       "      <td>125510.82</td>\n",
       "      <td>1</td>\n",
       "      <td>1</td>\n",
       "      <td>1</td>\n",
       "      <td>79084.10</td>\n",
       "      <td>0</td>\n",
       "    </tr>\n",
       "  </tbody>\n",
       "</table>\n",
       "</div>"
      ],
      "text/plain": [
       "   RowNumber  CustomerId   Surname  CreditScore Geography  Gender  Age  \\\n",
       "0          1    15634602  Hargrave          619    France  Female   42   \n",
       "1          2    15647311      Hill          608     Spain  Female   41   \n",
       "2          3    15619304      Onio          502    France  Female   42   \n",
       "3          4    15701354      Boni          699    France  Female   39   \n",
       "4          5    15737888  Mitchell          850     Spain  Female   43   \n",
       "\n",
       "   Tenure    Balance  NumOfProducts  HasCrCard  IsActiveMember  \\\n",
       "0       2       0.00              1          1               1   \n",
       "1       1   83807.86              1          0               1   \n",
       "2       8  159660.80              3          1               0   \n",
       "3       1       0.00              2          0               0   \n",
       "4       2  125510.82              1          1               1   \n",
       "\n",
       "   EstimatedSalary  Exited  \n",
       "0        101348.88       1  \n",
       "1        112542.58       0  \n",
       "2        113931.57       1  \n",
       "3         93826.63       0  \n",
       "4         79084.10       0  "
      ]
     },
     "execution_count": 3,
     "metadata": {},
     "output_type": "execute_result"
    }
   ],
   "source": [
    "df.head()"
   ]
  },
  {
   "cell_type": "code",
   "execution_count": 4,
   "id": "02d18b62",
   "metadata": {
    "execution": {
     "iopub.execute_input": "2024-10-10T07:13:45.079163Z",
     "iopub.status.busy": "2024-10-10T07:13:45.078731Z",
     "iopub.status.idle": "2024-10-10T07:13:45.086214Z",
     "shell.execute_reply": "2024-10-10T07:13:45.084924Z"
    },
    "papermill": {
     "duration": 0.021505,
     "end_time": "2024-10-10T07:13:45.088830",
     "exception": false,
     "start_time": "2024-10-10T07:13:45.067325",
     "status": "completed"
    },
    "tags": []
   },
   "outputs": [
    {
     "data": {
      "text/plain": [
       "(10000, 14)"
      ]
     },
     "execution_count": 4,
     "metadata": {},
     "output_type": "execute_result"
    }
   ],
   "source": [
    "df.shape"
   ]
  },
  {
   "cell_type": "code",
   "execution_count": 5,
   "id": "0aec7857",
   "metadata": {
    "execution": {
     "iopub.execute_input": "2024-10-10T07:13:45.111038Z",
     "iopub.status.busy": "2024-10-10T07:13:45.110528Z",
     "iopub.status.idle": "2024-10-10T07:13:45.118005Z",
     "shell.execute_reply": "2024-10-10T07:13:45.116844Z"
    },
    "papermill": {
     "duration": 0.021116,
     "end_time": "2024-10-10T07:13:45.120264",
     "exception": false,
     "start_time": "2024-10-10T07:13:45.099148",
     "status": "completed"
    },
    "tags": []
   },
   "outputs": [
    {
     "data": {
      "text/plain": [
       "Index(['RowNumber', 'CustomerId', 'Surname', 'CreditScore', 'Geography',\n",
       "       'Gender', 'Age', 'Tenure', 'Balance', 'NumOfProducts', 'HasCrCard',\n",
       "       'IsActiveMember', 'EstimatedSalary', 'Exited'],\n",
       "      dtype='object')"
      ]
     },
     "execution_count": 5,
     "metadata": {},
     "output_type": "execute_result"
    }
   ],
   "source": [
    "df.columns"
   ]
  },
  {
   "cell_type": "code",
   "execution_count": 6,
   "id": "22b376db",
   "metadata": {
    "execution": {
     "iopub.execute_input": "2024-10-10T07:13:45.143529Z",
     "iopub.status.busy": "2024-10-10T07:13:45.142692Z",
     "iopub.status.idle": "2024-10-10T07:13:45.172769Z",
     "shell.execute_reply": "2024-10-10T07:13:45.171401Z"
    },
    "papermill": {
     "duration": 0.044705,
     "end_time": "2024-10-10T07:13:45.175349",
     "exception": false,
     "start_time": "2024-10-10T07:13:45.130644",
     "status": "completed"
    },
    "tags": []
   },
   "outputs": [
    {
     "name": "stdout",
     "output_type": "stream",
     "text": [
      "<class 'pandas.core.frame.DataFrame'>\n",
      "RangeIndex: 10000 entries, 0 to 9999\n",
      "Data columns (total 14 columns):\n",
      " #   Column           Non-Null Count  Dtype  \n",
      "---  ------           --------------  -----  \n",
      " 0   RowNumber        10000 non-null  int64  \n",
      " 1   CustomerId       10000 non-null  int64  \n",
      " 2   Surname          10000 non-null  object \n",
      " 3   CreditScore      10000 non-null  int64  \n",
      " 4   Geography        10000 non-null  object \n",
      " 5   Gender           10000 non-null  object \n",
      " 6   Age              10000 non-null  int64  \n",
      " 7   Tenure           10000 non-null  int64  \n",
      " 8   Balance          10000 non-null  float64\n",
      " 9   NumOfProducts    10000 non-null  int64  \n",
      " 10  HasCrCard        10000 non-null  int64  \n",
      " 11  IsActiveMember   10000 non-null  int64  \n",
      " 12  EstimatedSalary  10000 non-null  float64\n",
      " 13  Exited           10000 non-null  int64  \n",
      "dtypes: float64(2), int64(9), object(3)\n",
      "memory usage: 1.1+ MB\n"
     ]
    }
   ],
   "source": [
    "df.info()"
   ]
  },
  {
   "cell_type": "code",
   "execution_count": 7,
   "id": "068cedb3",
   "metadata": {
    "execution": {
     "iopub.execute_input": "2024-10-10T07:13:45.198699Z",
     "iopub.status.busy": "2024-10-10T07:13:45.197751Z",
     "iopub.status.idle": "2024-10-10T07:13:45.214404Z",
     "shell.execute_reply": "2024-10-10T07:13:45.213123Z"
    },
    "papermill": {
     "duration": 0.030939,
     "end_time": "2024-10-10T07:13:45.216960",
     "exception": false,
     "start_time": "2024-10-10T07:13:45.186021",
     "status": "completed"
    },
    "tags": []
   },
   "outputs": [
    {
     "data": {
      "text/plain": [
       "0"
      ]
     },
     "execution_count": 7,
     "metadata": {},
     "output_type": "execute_result"
    }
   ],
   "source": [
    "df.duplicated().sum()"
   ]
  },
  {
   "cell_type": "code",
   "execution_count": 8,
   "id": "9cf4b0fd",
   "metadata": {
    "execution": {
     "iopub.execute_input": "2024-10-10T07:13:45.239557Z",
     "iopub.status.busy": "2024-10-10T07:13:45.239147Z",
     "iopub.status.idle": "2024-10-10T07:13:45.249754Z",
     "shell.execute_reply": "2024-10-10T07:13:45.248603Z"
    },
    "papermill": {
     "duration": 0.024531,
     "end_time": "2024-10-10T07:13:45.252034",
     "exception": false,
     "start_time": "2024-10-10T07:13:45.227503",
     "status": "completed"
    },
    "tags": []
   },
   "outputs": [
    {
     "data": {
      "text/plain": [
       "Exited\n",
       "0    7963\n",
       "1    2037\n",
       "Name: count, dtype: int64"
      ]
     },
     "execution_count": 8,
     "metadata": {},
     "output_type": "execute_result"
    }
   ],
   "source": [
    "df['Exited'].value_counts()"
   ]
  },
  {
   "cell_type": "code",
   "execution_count": 9,
   "id": "36a08efc",
   "metadata": {
    "execution": {
     "iopub.execute_input": "2024-10-10T07:13:45.275039Z",
     "iopub.status.busy": "2024-10-10T07:13:45.274589Z",
     "iopub.status.idle": "2024-10-10T07:13:45.283670Z",
     "shell.execute_reply": "2024-10-10T07:13:45.282565Z"
    },
    "papermill": {
     "duration": 0.0237,
     "end_time": "2024-10-10T07:13:45.286305",
     "exception": false,
     "start_time": "2024-10-10T07:13:45.262605",
     "status": "completed"
    },
    "tags": []
   },
   "outputs": [
    {
     "data": {
      "text/plain": [
       "Geography\n",
       "France     5014\n",
       "Germany    2509\n",
       "Spain      2477\n",
       "Name: count, dtype: int64"
      ]
     },
     "execution_count": 9,
     "metadata": {},
     "output_type": "execute_result"
    }
   ],
   "source": [
    "df['Geography'].value_counts()"
   ]
  },
  {
   "cell_type": "code",
   "execution_count": 10,
   "id": "6c8bab42",
   "metadata": {
    "execution": {
     "iopub.execute_input": "2024-10-10T07:13:45.309759Z",
     "iopub.status.busy": "2024-10-10T07:13:45.309387Z",
     "iopub.status.idle": "2024-10-10T07:13:45.318762Z",
     "shell.execute_reply": "2024-10-10T07:13:45.317754Z"
    },
    "papermill": {
     "duration": 0.023824,
     "end_time": "2024-10-10T07:13:45.321068",
     "exception": false,
     "start_time": "2024-10-10T07:13:45.297244",
     "status": "completed"
    },
    "tags": []
   },
   "outputs": [
    {
     "data": {
      "text/plain": [
       "Gender\n",
       "Male      5457\n",
       "Female    4543\n",
       "Name: count, dtype: int64"
      ]
     },
     "execution_count": 10,
     "metadata": {},
     "output_type": "execute_result"
    }
   ],
   "source": [
    "df['Gender'].value_counts()"
   ]
  },
  {
   "cell_type": "code",
   "execution_count": 11,
   "id": "e160e13c",
   "metadata": {
    "execution": {
     "iopub.execute_input": "2024-10-10T07:13:45.345145Z",
     "iopub.status.busy": "2024-10-10T07:13:45.344677Z",
     "iopub.status.idle": "2024-10-10T07:13:45.354471Z",
     "shell.execute_reply": "2024-10-10T07:13:45.353122Z"
    },
    "papermill": {
     "duration": 0.024531,
     "end_time": "2024-10-10T07:13:45.356720",
     "exception": false,
     "start_time": "2024-10-10T07:13:45.332189",
     "status": "completed"
    },
    "tags": []
   },
   "outputs": [],
   "source": [
    "# We are dropping some column\n",
    "df.drop(columns=[\"RowNumber\",'CustomerId','Surname'],inplace=True)"
   ]
  },
  {
   "cell_type": "code",
   "execution_count": 12,
   "id": "2524a921",
   "metadata": {
    "execution": {
     "iopub.execute_input": "2024-10-10T07:13:45.380371Z",
     "iopub.status.busy": "2024-10-10T07:13:45.379593Z",
     "iopub.status.idle": "2024-10-10T07:13:45.385585Z",
     "shell.execute_reply": "2024-10-10T07:13:45.384429Z"
    },
    "papermill": {
     "duration": 0.020628,
     "end_time": "2024-10-10T07:13:45.388103",
     "exception": false,
     "start_time": "2024-10-10T07:13:45.367475",
     "status": "completed"
    },
    "tags": []
   },
   "outputs": [
    {
     "name": "stdout",
     "output_type": "stream",
     "text": [
      "Index(['CreditScore', 'Geography', 'Gender', 'Age', 'Tenure', 'Balance',\n",
      "       'NumOfProducts', 'HasCrCard', 'IsActiveMember', 'EstimatedSalary',\n",
      "       'Exited'],\n",
      "      dtype='object')\n"
     ]
    }
   ],
   "source": [
    "\n",
    "print(df.columns)"
   ]
  },
  {
   "cell_type": "code",
   "execution_count": 13,
   "id": "3af9a997",
   "metadata": {
    "execution": {
     "iopub.execute_input": "2024-10-10T07:13:45.411927Z",
     "iopub.status.busy": "2024-10-10T07:13:45.411488Z",
     "iopub.status.idle": "2024-10-10T07:13:45.427269Z",
     "shell.execute_reply": "2024-10-10T07:13:45.426158Z"
    },
    "papermill": {
     "duration": 0.030382,
     "end_time": "2024-10-10T07:13:45.429694",
     "exception": false,
     "start_time": "2024-10-10T07:13:45.399312",
     "status": "completed"
    },
    "tags": []
   },
   "outputs": [
    {
     "data": {
      "text/html": [
       "<div>\n",
       "<style scoped>\n",
       "    .dataframe tbody tr th:only-of-type {\n",
       "        vertical-align: middle;\n",
       "    }\n",
       "\n",
       "    .dataframe tbody tr th {\n",
       "        vertical-align: top;\n",
       "    }\n",
       "\n",
       "    .dataframe thead th {\n",
       "        text-align: right;\n",
       "    }\n",
       "</style>\n",
       "<table border=\"1\" class=\"dataframe\">\n",
       "  <thead>\n",
       "    <tr style=\"text-align: right;\">\n",
       "      <th></th>\n",
       "      <th>CreditScore</th>\n",
       "      <th>Geography</th>\n",
       "      <th>Gender</th>\n",
       "      <th>Age</th>\n",
       "      <th>Tenure</th>\n",
       "      <th>Balance</th>\n",
       "      <th>NumOfProducts</th>\n",
       "      <th>HasCrCard</th>\n",
       "      <th>IsActiveMember</th>\n",
       "      <th>EstimatedSalary</th>\n",
       "      <th>Exited</th>\n",
       "    </tr>\n",
       "  </thead>\n",
       "  <tbody>\n",
       "    <tr>\n",
       "      <th>0</th>\n",
       "      <td>619</td>\n",
       "      <td>France</td>\n",
       "      <td>Female</td>\n",
       "      <td>42</td>\n",
       "      <td>2</td>\n",
       "      <td>0.00</td>\n",
       "      <td>1</td>\n",
       "      <td>1</td>\n",
       "      <td>1</td>\n",
       "      <td>101348.88</td>\n",
       "      <td>1</td>\n",
       "    </tr>\n",
       "    <tr>\n",
       "      <th>1</th>\n",
       "      <td>608</td>\n",
       "      <td>Spain</td>\n",
       "      <td>Female</td>\n",
       "      <td>41</td>\n",
       "      <td>1</td>\n",
       "      <td>83807.86</td>\n",
       "      <td>1</td>\n",
       "      <td>0</td>\n",
       "      <td>1</td>\n",
       "      <td>112542.58</td>\n",
       "      <td>0</td>\n",
       "    </tr>\n",
       "    <tr>\n",
       "      <th>2</th>\n",
       "      <td>502</td>\n",
       "      <td>France</td>\n",
       "      <td>Female</td>\n",
       "      <td>42</td>\n",
       "      <td>8</td>\n",
       "      <td>159660.80</td>\n",
       "      <td>3</td>\n",
       "      <td>1</td>\n",
       "      <td>0</td>\n",
       "      <td>113931.57</td>\n",
       "      <td>1</td>\n",
       "    </tr>\n",
       "    <tr>\n",
       "      <th>3</th>\n",
       "      <td>699</td>\n",
       "      <td>France</td>\n",
       "      <td>Female</td>\n",
       "      <td>39</td>\n",
       "      <td>1</td>\n",
       "      <td>0.00</td>\n",
       "      <td>2</td>\n",
       "      <td>0</td>\n",
       "      <td>0</td>\n",
       "      <td>93826.63</td>\n",
       "      <td>0</td>\n",
       "    </tr>\n",
       "    <tr>\n",
       "      <th>4</th>\n",
       "      <td>850</td>\n",
       "      <td>Spain</td>\n",
       "      <td>Female</td>\n",
       "      <td>43</td>\n",
       "      <td>2</td>\n",
       "      <td>125510.82</td>\n",
       "      <td>1</td>\n",
       "      <td>1</td>\n",
       "      <td>1</td>\n",
       "      <td>79084.10</td>\n",
       "      <td>0</td>\n",
       "    </tr>\n",
       "  </tbody>\n",
       "</table>\n",
       "</div>"
      ],
      "text/plain": [
       "   CreditScore Geography  Gender  Age  Tenure    Balance  NumOfProducts  \\\n",
       "0          619    France  Female   42       2       0.00              1   \n",
       "1          608     Spain  Female   41       1   83807.86              1   \n",
       "2          502    France  Female   42       8  159660.80              3   \n",
       "3          699    France  Female   39       1       0.00              2   \n",
       "4          850     Spain  Female   43       2  125510.82              1   \n",
       "\n",
       "   HasCrCard  IsActiveMember  EstimatedSalary  Exited  \n",
       "0          1               1        101348.88       1  \n",
       "1          0               1        112542.58       0  \n",
       "2          1               0        113931.57       1  \n",
       "3          0               0         93826.63       0  \n",
       "4          1               1         79084.10       0  "
      ]
     },
     "execution_count": 13,
     "metadata": {},
     "output_type": "execute_result"
    }
   ],
   "source": [
    "df.head()"
   ]
  },
  {
   "cell_type": "code",
   "execution_count": 14,
   "id": "194828fc",
   "metadata": {
    "execution": {
     "iopub.execute_input": "2024-10-10T07:13:45.455654Z",
     "iopub.status.busy": "2024-10-10T07:13:45.455284Z",
     "iopub.status.idle": "2024-10-10T07:13:45.467008Z",
     "shell.execute_reply": "2024-10-10T07:13:45.465954Z"
    },
    "papermill": {
     "duration": 0.027617,
     "end_time": "2024-10-10T07:13:45.469470",
     "exception": false,
     "start_time": "2024-10-10T07:13:45.441853",
     "status": "completed"
    },
    "tags": []
   },
   "outputs": [],
   "source": [
    "# Apply one-hot encoding\n",
    "df_encoded = pd.get_dummies(df, columns=['Geography', 'Gender'], drop_first=True)"
   ]
  },
  {
   "cell_type": "code",
   "execution_count": 15,
   "id": "145e4250",
   "metadata": {
    "execution": {
     "iopub.execute_input": "2024-10-10T07:13:45.493742Z",
     "iopub.status.busy": "2024-10-10T07:13:45.493338Z",
     "iopub.status.idle": "2024-10-10T07:13:45.499882Z",
     "shell.execute_reply": "2024-10-10T07:13:45.498725Z"
    },
    "papermill": {
     "duration": 0.021332,
     "end_time": "2024-10-10T07:13:45.502126",
     "exception": false,
     "start_time": "2024-10-10T07:13:45.480794",
     "status": "completed"
    },
    "tags": []
   },
   "outputs": [],
   "source": [
    "# Select only the columns generated by pd.get_dummies()\n",
    "encoded_columns = df_encoded.select_dtypes(include=['bool', 'uint8']).columns"
   ]
  },
  {
   "cell_type": "code",
   "execution_count": 16,
   "id": "627a3b14",
   "metadata": {
    "execution": {
     "iopub.execute_input": "2024-10-10T07:13:45.526099Z",
     "iopub.status.busy": "2024-10-10T07:13:45.525652Z",
     "iopub.status.idle": "2024-10-10T07:13:45.533916Z",
     "shell.execute_reply": "2024-10-10T07:13:45.532705Z"
    },
    "papermill": {
     "duration": 0.023058,
     "end_time": "2024-10-10T07:13:45.536335",
     "exception": false,
     "start_time": "2024-10-10T07:13:45.513277",
     "status": "completed"
    },
    "tags": []
   },
   "outputs": [],
   "source": [
    "# Convert the dummy columns from bool or uint8 to int\n",
    "df_encoded[encoded_columns] = df_encoded[encoded_columns].astype(int)\n"
   ]
  },
  {
   "cell_type": "code",
   "execution_count": 17,
   "id": "ac3f3824",
   "metadata": {
    "execution": {
     "iopub.execute_input": "2024-10-10T07:13:45.560129Z",
     "iopub.status.busy": "2024-10-10T07:13:45.559712Z",
     "iopub.status.idle": "2024-10-10T07:13:45.578740Z",
     "shell.execute_reply": "2024-10-10T07:13:45.577415Z"
    },
    "papermill": {
     "duration": 0.033711,
     "end_time": "2024-10-10T07:13:45.581161",
     "exception": false,
     "start_time": "2024-10-10T07:13:45.547450",
     "status": "completed"
    },
    "tags": []
   },
   "outputs": [
    {
     "data": {
      "text/html": [
       "<div>\n",
       "<style scoped>\n",
       "    .dataframe tbody tr th:only-of-type {\n",
       "        vertical-align: middle;\n",
       "    }\n",
       "\n",
       "    .dataframe tbody tr th {\n",
       "        vertical-align: top;\n",
       "    }\n",
       "\n",
       "    .dataframe thead th {\n",
       "        text-align: right;\n",
       "    }\n",
       "</style>\n",
       "<table border=\"1\" class=\"dataframe\">\n",
       "  <thead>\n",
       "    <tr style=\"text-align: right;\">\n",
       "      <th></th>\n",
       "      <th>CreditScore</th>\n",
       "      <th>Age</th>\n",
       "      <th>Tenure</th>\n",
       "      <th>Balance</th>\n",
       "      <th>NumOfProducts</th>\n",
       "      <th>HasCrCard</th>\n",
       "      <th>IsActiveMember</th>\n",
       "      <th>EstimatedSalary</th>\n",
       "      <th>Exited</th>\n",
       "      <th>Geography_Germany</th>\n",
       "      <th>Geography_Spain</th>\n",
       "      <th>Gender_Male</th>\n",
       "    </tr>\n",
       "  </thead>\n",
       "  <tbody>\n",
       "    <tr>\n",
       "      <th>0</th>\n",
       "      <td>619</td>\n",
       "      <td>42</td>\n",
       "      <td>2</td>\n",
       "      <td>0.00</td>\n",
       "      <td>1</td>\n",
       "      <td>1</td>\n",
       "      <td>1</td>\n",
       "      <td>101348.88</td>\n",
       "      <td>1</td>\n",
       "      <td>0</td>\n",
       "      <td>0</td>\n",
       "      <td>0</td>\n",
       "    </tr>\n",
       "    <tr>\n",
       "      <th>1</th>\n",
       "      <td>608</td>\n",
       "      <td>41</td>\n",
       "      <td>1</td>\n",
       "      <td>83807.86</td>\n",
       "      <td>1</td>\n",
       "      <td>0</td>\n",
       "      <td>1</td>\n",
       "      <td>112542.58</td>\n",
       "      <td>0</td>\n",
       "      <td>0</td>\n",
       "      <td>1</td>\n",
       "      <td>0</td>\n",
       "    </tr>\n",
       "    <tr>\n",
       "      <th>2</th>\n",
       "      <td>502</td>\n",
       "      <td>42</td>\n",
       "      <td>8</td>\n",
       "      <td>159660.80</td>\n",
       "      <td>3</td>\n",
       "      <td>1</td>\n",
       "      <td>0</td>\n",
       "      <td>113931.57</td>\n",
       "      <td>1</td>\n",
       "      <td>0</td>\n",
       "      <td>0</td>\n",
       "      <td>0</td>\n",
       "    </tr>\n",
       "    <tr>\n",
       "      <th>3</th>\n",
       "      <td>699</td>\n",
       "      <td>39</td>\n",
       "      <td>1</td>\n",
       "      <td>0.00</td>\n",
       "      <td>2</td>\n",
       "      <td>0</td>\n",
       "      <td>0</td>\n",
       "      <td>93826.63</td>\n",
       "      <td>0</td>\n",
       "      <td>0</td>\n",
       "      <td>0</td>\n",
       "      <td>0</td>\n",
       "    </tr>\n",
       "    <tr>\n",
       "      <th>4</th>\n",
       "      <td>850</td>\n",
       "      <td>43</td>\n",
       "      <td>2</td>\n",
       "      <td>125510.82</td>\n",
       "      <td>1</td>\n",
       "      <td>1</td>\n",
       "      <td>1</td>\n",
       "      <td>79084.10</td>\n",
       "      <td>0</td>\n",
       "      <td>0</td>\n",
       "      <td>1</td>\n",
       "      <td>0</td>\n",
       "    </tr>\n",
       "    <tr>\n",
       "      <th>...</th>\n",
       "      <td>...</td>\n",
       "      <td>...</td>\n",
       "      <td>...</td>\n",
       "      <td>...</td>\n",
       "      <td>...</td>\n",
       "      <td>...</td>\n",
       "      <td>...</td>\n",
       "      <td>...</td>\n",
       "      <td>...</td>\n",
       "      <td>...</td>\n",
       "      <td>...</td>\n",
       "      <td>...</td>\n",
       "    </tr>\n",
       "    <tr>\n",
       "      <th>9995</th>\n",
       "      <td>771</td>\n",
       "      <td>39</td>\n",
       "      <td>5</td>\n",
       "      <td>0.00</td>\n",
       "      <td>2</td>\n",
       "      <td>1</td>\n",
       "      <td>0</td>\n",
       "      <td>96270.64</td>\n",
       "      <td>0</td>\n",
       "      <td>0</td>\n",
       "      <td>0</td>\n",
       "      <td>1</td>\n",
       "    </tr>\n",
       "    <tr>\n",
       "      <th>9996</th>\n",
       "      <td>516</td>\n",
       "      <td>35</td>\n",
       "      <td>10</td>\n",
       "      <td>57369.61</td>\n",
       "      <td>1</td>\n",
       "      <td>1</td>\n",
       "      <td>1</td>\n",
       "      <td>101699.77</td>\n",
       "      <td>0</td>\n",
       "      <td>0</td>\n",
       "      <td>0</td>\n",
       "      <td>1</td>\n",
       "    </tr>\n",
       "    <tr>\n",
       "      <th>9997</th>\n",
       "      <td>709</td>\n",
       "      <td>36</td>\n",
       "      <td>7</td>\n",
       "      <td>0.00</td>\n",
       "      <td>1</td>\n",
       "      <td>0</td>\n",
       "      <td>1</td>\n",
       "      <td>42085.58</td>\n",
       "      <td>1</td>\n",
       "      <td>0</td>\n",
       "      <td>0</td>\n",
       "      <td>0</td>\n",
       "    </tr>\n",
       "    <tr>\n",
       "      <th>9998</th>\n",
       "      <td>772</td>\n",
       "      <td>42</td>\n",
       "      <td>3</td>\n",
       "      <td>75075.31</td>\n",
       "      <td>2</td>\n",
       "      <td>1</td>\n",
       "      <td>0</td>\n",
       "      <td>92888.52</td>\n",
       "      <td>1</td>\n",
       "      <td>1</td>\n",
       "      <td>0</td>\n",
       "      <td>1</td>\n",
       "    </tr>\n",
       "    <tr>\n",
       "      <th>9999</th>\n",
       "      <td>792</td>\n",
       "      <td>28</td>\n",
       "      <td>4</td>\n",
       "      <td>130142.79</td>\n",
       "      <td>1</td>\n",
       "      <td>1</td>\n",
       "      <td>0</td>\n",
       "      <td>38190.78</td>\n",
       "      <td>0</td>\n",
       "      <td>0</td>\n",
       "      <td>0</td>\n",
       "      <td>0</td>\n",
       "    </tr>\n",
       "  </tbody>\n",
       "</table>\n",
       "<p>10000 rows × 12 columns</p>\n",
       "</div>"
      ],
      "text/plain": [
       "      CreditScore  Age  Tenure    Balance  NumOfProducts  HasCrCard  \\\n",
       "0             619   42       2       0.00              1          1   \n",
       "1             608   41       1   83807.86              1          0   \n",
       "2             502   42       8  159660.80              3          1   \n",
       "3             699   39       1       0.00              2          0   \n",
       "4             850   43       2  125510.82              1          1   \n",
       "...           ...  ...     ...        ...            ...        ...   \n",
       "9995          771   39       5       0.00              2          1   \n",
       "9996          516   35      10   57369.61              1          1   \n",
       "9997          709   36       7       0.00              1          0   \n",
       "9998          772   42       3   75075.31              2          1   \n",
       "9999          792   28       4  130142.79              1          1   \n",
       "\n",
       "      IsActiveMember  EstimatedSalary  Exited  Geography_Germany  \\\n",
       "0                  1        101348.88       1                  0   \n",
       "1                  1        112542.58       0                  0   \n",
       "2                  0        113931.57       1                  0   \n",
       "3                  0         93826.63       0                  0   \n",
       "4                  1         79084.10       0                  0   \n",
       "...              ...              ...     ...                ...   \n",
       "9995               0         96270.64       0                  0   \n",
       "9996               1        101699.77       0                  0   \n",
       "9997               1         42085.58       1                  0   \n",
       "9998               0         92888.52       1                  1   \n",
       "9999               0         38190.78       0                  0   \n",
       "\n",
       "      Geography_Spain  Gender_Male  \n",
       "0                   0            0  \n",
       "1                   1            0  \n",
       "2                   0            0  \n",
       "3                   0            0  \n",
       "4                   1            0  \n",
       "...               ...          ...  \n",
       "9995                0            1  \n",
       "9996                0            1  \n",
       "9997                0            0  \n",
       "9998                0            1  \n",
       "9999                0            0  \n",
       "\n",
       "[10000 rows x 12 columns]"
      ]
     },
     "execution_count": 17,
     "metadata": {},
     "output_type": "execute_result"
    }
   ],
   "source": [
    "df_encoded"
   ]
  },
  {
   "cell_type": "code",
   "execution_count": 18,
   "id": "20e2d9cc",
   "metadata": {
    "execution": {
     "iopub.execute_input": "2024-10-10T07:13:45.606310Z",
     "iopub.status.busy": "2024-10-10T07:13:45.605895Z",
     "iopub.status.idle": "2024-10-10T07:13:45.613154Z",
     "shell.execute_reply": "2024-10-10T07:13:45.612040Z"
    },
    "papermill": {
     "duration": 0.022644,
     "end_time": "2024-10-10T07:13:45.615596",
     "exception": false,
     "start_time": "2024-10-10T07:13:45.592952",
     "status": "completed"
    },
    "tags": []
   },
   "outputs": [],
   "source": [
    "X = df_encoded.drop(columns=['Exited'])\n",
    "y = df_encoded['Exited']"
   ]
  },
  {
   "cell_type": "code",
   "execution_count": 19,
   "id": "1dcebfaa",
   "metadata": {
    "execution": {
     "iopub.execute_input": "2024-10-10T07:13:45.641030Z",
     "iopub.status.busy": "2024-10-10T07:13:45.640569Z",
     "iopub.status.idle": "2024-10-10T07:13:45.658009Z",
     "shell.execute_reply": "2024-10-10T07:13:45.656901Z"
    },
    "papermill": {
     "duration": 0.032942,
     "end_time": "2024-10-10T07:13:45.660173",
     "exception": false,
     "start_time": "2024-10-10T07:13:45.627231",
     "status": "completed"
    },
    "tags": []
   },
   "outputs": [
    {
     "data": {
      "text/html": [
       "<div>\n",
       "<style scoped>\n",
       "    .dataframe tbody tr th:only-of-type {\n",
       "        vertical-align: middle;\n",
       "    }\n",
       "\n",
       "    .dataframe tbody tr th {\n",
       "        vertical-align: top;\n",
       "    }\n",
       "\n",
       "    .dataframe thead th {\n",
       "        text-align: right;\n",
       "    }\n",
       "</style>\n",
       "<table border=\"1\" class=\"dataframe\">\n",
       "  <thead>\n",
       "    <tr style=\"text-align: right;\">\n",
       "      <th></th>\n",
       "      <th>CreditScore</th>\n",
       "      <th>Age</th>\n",
       "      <th>Tenure</th>\n",
       "      <th>Balance</th>\n",
       "      <th>NumOfProducts</th>\n",
       "      <th>HasCrCard</th>\n",
       "      <th>IsActiveMember</th>\n",
       "      <th>EstimatedSalary</th>\n",
       "      <th>Geography_Germany</th>\n",
       "      <th>Geography_Spain</th>\n",
       "      <th>Gender_Male</th>\n",
       "    </tr>\n",
       "  </thead>\n",
       "  <tbody>\n",
       "    <tr>\n",
       "      <th>0</th>\n",
       "      <td>619</td>\n",
       "      <td>42</td>\n",
       "      <td>2</td>\n",
       "      <td>0.00</td>\n",
       "      <td>1</td>\n",
       "      <td>1</td>\n",
       "      <td>1</td>\n",
       "      <td>101348.88</td>\n",
       "      <td>0</td>\n",
       "      <td>0</td>\n",
       "      <td>0</td>\n",
       "    </tr>\n",
       "    <tr>\n",
       "      <th>1</th>\n",
       "      <td>608</td>\n",
       "      <td>41</td>\n",
       "      <td>1</td>\n",
       "      <td>83807.86</td>\n",
       "      <td>1</td>\n",
       "      <td>0</td>\n",
       "      <td>1</td>\n",
       "      <td>112542.58</td>\n",
       "      <td>0</td>\n",
       "      <td>1</td>\n",
       "      <td>0</td>\n",
       "    </tr>\n",
       "    <tr>\n",
       "      <th>2</th>\n",
       "      <td>502</td>\n",
       "      <td>42</td>\n",
       "      <td>8</td>\n",
       "      <td>159660.80</td>\n",
       "      <td>3</td>\n",
       "      <td>1</td>\n",
       "      <td>0</td>\n",
       "      <td>113931.57</td>\n",
       "      <td>0</td>\n",
       "      <td>0</td>\n",
       "      <td>0</td>\n",
       "    </tr>\n",
       "    <tr>\n",
       "      <th>3</th>\n",
       "      <td>699</td>\n",
       "      <td>39</td>\n",
       "      <td>1</td>\n",
       "      <td>0.00</td>\n",
       "      <td>2</td>\n",
       "      <td>0</td>\n",
       "      <td>0</td>\n",
       "      <td>93826.63</td>\n",
       "      <td>0</td>\n",
       "      <td>0</td>\n",
       "      <td>0</td>\n",
       "    </tr>\n",
       "    <tr>\n",
       "      <th>4</th>\n",
       "      <td>850</td>\n",
       "      <td>43</td>\n",
       "      <td>2</td>\n",
       "      <td>125510.82</td>\n",
       "      <td>1</td>\n",
       "      <td>1</td>\n",
       "      <td>1</td>\n",
       "      <td>79084.10</td>\n",
       "      <td>0</td>\n",
       "      <td>1</td>\n",
       "      <td>0</td>\n",
       "    </tr>\n",
       "    <tr>\n",
       "      <th>...</th>\n",
       "      <td>...</td>\n",
       "      <td>...</td>\n",
       "      <td>...</td>\n",
       "      <td>...</td>\n",
       "      <td>...</td>\n",
       "      <td>...</td>\n",
       "      <td>...</td>\n",
       "      <td>...</td>\n",
       "      <td>...</td>\n",
       "      <td>...</td>\n",
       "      <td>...</td>\n",
       "    </tr>\n",
       "    <tr>\n",
       "      <th>9995</th>\n",
       "      <td>771</td>\n",
       "      <td>39</td>\n",
       "      <td>5</td>\n",
       "      <td>0.00</td>\n",
       "      <td>2</td>\n",
       "      <td>1</td>\n",
       "      <td>0</td>\n",
       "      <td>96270.64</td>\n",
       "      <td>0</td>\n",
       "      <td>0</td>\n",
       "      <td>1</td>\n",
       "    </tr>\n",
       "    <tr>\n",
       "      <th>9996</th>\n",
       "      <td>516</td>\n",
       "      <td>35</td>\n",
       "      <td>10</td>\n",
       "      <td>57369.61</td>\n",
       "      <td>1</td>\n",
       "      <td>1</td>\n",
       "      <td>1</td>\n",
       "      <td>101699.77</td>\n",
       "      <td>0</td>\n",
       "      <td>0</td>\n",
       "      <td>1</td>\n",
       "    </tr>\n",
       "    <tr>\n",
       "      <th>9997</th>\n",
       "      <td>709</td>\n",
       "      <td>36</td>\n",
       "      <td>7</td>\n",
       "      <td>0.00</td>\n",
       "      <td>1</td>\n",
       "      <td>0</td>\n",
       "      <td>1</td>\n",
       "      <td>42085.58</td>\n",
       "      <td>0</td>\n",
       "      <td>0</td>\n",
       "      <td>0</td>\n",
       "    </tr>\n",
       "    <tr>\n",
       "      <th>9998</th>\n",
       "      <td>772</td>\n",
       "      <td>42</td>\n",
       "      <td>3</td>\n",
       "      <td>75075.31</td>\n",
       "      <td>2</td>\n",
       "      <td>1</td>\n",
       "      <td>0</td>\n",
       "      <td>92888.52</td>\n",
       "      <td>1</td>\n",
       "      <td>0</td>\n",
       "      <td>1</td>\n",
       "    </tr>\n",
       "    <tr>\n",
       "      <th>9999</th>\n",
       "      <td>792</td>\n",
       "      <td>28</td>\n",
       "      <td>4</td>\n",
       "      <td>130142.79</td>\n",
       "      <td>1</td>\n",
       "      <td>1</td>\n",
       "      <td>0</td>\n",
       "      <td>38190.78</td>\n",
       "      <td>0</td>\n",
       "      <td>0</td>\n",
       "      <td>0</td>\n",
       "    </tr>\n",
       "  </tbody>\n",
       "</table>\n",
       "<p>10000 rows × 11 columns</p>\n",
       "</div>"
      ],
      "text/plain": [
       "      CreditScore  Age  Tenure    Balance  NumOfProducts  HasCrCard  \\\n",
       "0             619   42       2       0.00              1          1   \n",
       "1             608   41       1   83807.86              1          0   \n",
       "2             502   42       8  159660.80              3          1   \n",
       "3             699   39       1       0.00              2          0   \n",
       "4             850   43       2  125510.82              1          1   \n",
       "...           ...  ...     ...        ...            ...        ...   \n",
       "9995          771   39       5       0.00              2          1   \n",
       "9996          516   35      10   57369.61              1          1   \n",
       "9997          709   36       7       0.00              1          0   \n",
       "9998          772   42       3   75075.31              2          1   \n",
       "9999          792   28       4  130142.79              1          1   \n",
       "\n",
       "      IsActiveMember  EstimatedSalary  Geography_Germany  Geography_Spain  \\\n",
       "0                  1        101348.88                  0                0   \n",
       "1                  1        112542.58                  0                1   \n",
       "2                  0        113931.57                  0                0   \n",
       "3                  0         93826.63                  0                0   \n",
       "4                  1         79084.10                  0                1   \n",
       "...              ...              ...                ...              ...   \n",
       "9995               0         96270.64                  0                0   \n",
       "9996               1        101699.77                  0                0   \n",
       "9997               1         42085.58                  0                0   \n",
       "9998               0         92888.52                  1                0   \n",
       "9999               0         38190.78                  0                0   \n",
       "\n",
       "      Gender_Male  \n",
       "0               0  \n",
       "1               0  \n",
       "2               0  \n",
       "3               0  \n",
       "4               0  \n",
       "...           ...  \n",
       "9995            1  \n",
       "9996            1  \n",
       "9997            0  \n",
       "9998            1  \n",
       "9999            0  \n",
       "\n",
       "[10000 rows x 11 columns]"
      ]
     },
     "execution_count": 19,
     "metadata": {},
     "output_type": "execute_result"
    }
   ],
   "source": [
    "X"
   ]
  },
  {
   "cell_type": "code",
   "execution_count": 20,
   "id": "b0bebbfb",
   "metadata": {
    "execution": {
     "iopub.execute_input": "2024-10-10T07:13:45.687231Z",
     "iopub.status.busy": "2024-10-10T07:13:45.686772Z",
     "iopub.status.idle": "2024-10-10T07:13:45.695710Z",
     "shell.execute_reply": "2024-10-10T07:13:45.694619Z"
    },
    "papermill": {
     "duration": 0.024554,
     "end_time": "2024-10-10T07:13:45.698081",
     "exception": false,
     "start_time": "2024-10-10T07:13:45.673527",
     "status": "completed"
    },
    "tags": []
   },
   "outputs": [
    {
     "data": {
      "text/plain": [
       "0       1\n",
       "1       0\n",
       "2       1\n",
       "3       0\n",
       "4       0\n",
       "       ..\n",
       "9995    0\n",
       "9996    0\n",
       "9997    1\n",
       "9998    1\n",
       "9999    0\n",
       "Name: Exited, Length: 10000, dtype: int64"
      ]
     },
     "execution_count": 20,
     "metadata": {},
     "output_type": "execute_result"
    }
   ],
   "source": [
    "y"
   ]
  },
  {
   "cell_type": "code",
   "execution_count": 21,
   "id": "5e7a84d5",
   "metadata": {
    "execution": {
     "iopub.execute_input": "2024-10-10T07:13:45.723750Z",
     "iopub.status.busy": "2024-10-10T07:13:45.723338Z",
     "iopub.status.idle": "2024-10-10T07:13:47.196222Z",
     "shell.execute_reply": "2024-10-10T07:13:47.195061Z"
    },
    "papermill": {
     "duration": 1.488898,
     "end_time": "2024-10-10T07:13:47.198945",
     "exception": false,
     "start_time": "2024-10-10T07:13:45.710047",
     "status": "completed"
    },
    "tags": []
   },
   "outputs": [],
   "source": [
    "from sklearn.model_selection import train_test_split\n",
    "X_train, X_test, y_train, y_test = train_test_split(X,y,test_size = 0.2,random_state = 42)"
   ]
  },
  {
   "cell_type": "code",
   "execution_count": 22,
   "id": "0081a37a",
   "metadata": {
    "execution": {
     "iopub.execute_input": "2024-10-10T07:13:47.224910Z",
     "iopub.status.busy": "2024-10-10T07:13:47.224316Z",
     "iopub.status.idle": "2024-10-10T07:13:47.231351Z",
     "shell.execute_reply": "2024-10-10T07:13:47.230257Z"
    },
    "papermill": {
     "duration": 0.022307,
     "end_time": "2024-10-10T07:13:47.233624",
     "exception": false,
     "start_time": "2024-10-10T07:13:47.211317",
     "status": "completed"
    },
    "tags": []
   },
   "outputs": [
    {
     "data": {
      "text/plain": [
       "(8000, 11)"
      ]
     },
     "execution_count": 22,
     "metadata": {},
     "output_type": "execute_result"
    }
   ],
   "source": [
    "X_train.shape"
   ]
  },
  {
   "cell_type": "code",
   "execution_count": 23,
   "id": "f597698e",
   "metadata": {
    "execution": {
     "iopub.execute_input": "2024-10-10T07:13:47.259185Z",
     "iopub.status.busy": "2024-10-10T07:13:47.258777Z",
     "iopub.status.idle": "2024-10-10T07:13:47.271944Z",
     "shell.execute_reply": "2024-10-10T07:13:47.270771Z"
    },
    "papermill": {
     "duration": 0.02915,
     "end_time": "2024-10-10T07:13:47.274710",
     "exception": false,
     "start_time": "2024-10-10T07:13:47.245560",
     "status": "completed"
    },
    "tags": []
   },
   "outputs": [],
   "source": [
    "from sklearn.preprocessing import StandardScaler \n",
    "scaler = StandardScaler()\n",
    "\n",
    "X_train_scaled = scaler.fit_transform(X_train)\n",
    "X_test_scaled = scaler.transform(X_test)"
   ]
  },
  {
   "cell_type": "code",
   "execution_count": 24,
   "id": "2275f5f7",
   "metadata": {
    "execution": {
     "iopub.execute_input": "2024-10-10T07:13:47.300331Z",
     "iopub.status.busy": "2024-10-10T07:13:47.299885Z",
     "iopub.status.idle": "2024-10-10T07:13:47.308346Z",
     "shell.execute_reply": "2024-10-10T07:13:47.307080Z"
    },
    "papermill": {
     "duration": 0.024068,
     "end_time": "2024-10-10T07:13:47.310841",
     "exception": false,
     "start_time": "2024-10-10T07:13:47.286773",
     "status": "completed"
    },
    "tags": []
   },
   "outputs": [
    {
     "data": {
      "text/plain": [
       "array([[ 0.35649971, -0.6557859 ,  0.34567966, ..., -0.57946723,\n",
       "        -0.57638802,  0.91324755],\n",
       "       [-0.20389777,  0.29493847, -0.3483691 , ...,  1.72572313,\n",
       "        -0.57638802,  0.91324755],\n",
       "       [-0.96147213, -1.41636539, -0.69539349, ..., -0.57946723,\n",
       "         1.73494238,  0.91324755],\n",
       "       ...,\n",
       "       [ 0.86500853, -0.08535128, -1.38944225, ..., -0.57946723,\n",
       "        -0.57638802, -1.09499335],\n",
       "       [ 0.15932282,  0.3900109 ,  1.03972843, ..., -0.57946723,\n",
       "        -0.57638802,  0.91324755],\n",
       "       [ 0.47065475,  1.15059039, -1.38944225, ...,  1.72572313,\n",
       "        -0.57638802,  0.91324755]])"
      ]
     },
     "execution_count": 24,
     "metadata": {},
     "output_type": "execute_result"
    }
   ],
   "source": [
    "X_train_scaled"
   ]
  },
  {
   "cell_type": "code",
   "execution_count": 25,
   "id": "af390388",
   "metadata": {
    "execution": {
     "iopub.execute_input": "2024-10-10T07:13:47.337345Z",
     "iopub.status.busy": "2024-10-10T07:13:47.336920Z",
     "iopub.status.idle": "2024-10-10T07:14:01.794908Z",
     "shell.execute_reply": "2024-10-10T07:14:01.793824Z"
    },
    "papermill": {
     "duration": 14.47404,
     "end_time": "2024-10-10T07:14:01.797645",
     "exception": false,
     "start_time": "2024-10-10T07:13:47.323605",
     "status": "completed"
    },
    "tags": []
   },
   "outputs": [],
   "source": [
    "import tensorflow\n",
    "from tensorflow import keras\n",
    "from tensorflow.keras import Sequential\n",
    "from tensorflow.keras.layers import Dense , Input"
   ]
  },
  {
   "cell_type": "code",
   "execution_count": 26,
   "id": "989a3ef7",
   "metadata": {
    "execution": {
     "iopub.execute_input": "2024-10-10T07:14:01.824090Z",
     "iopub.status.busy": "2024-10-10T07:14:01.823409Z",
     "iopub.status.idle": "2024-10-10T07:14:01.909029Z",
     "shell.execute_reply": "2024-10-10T07:14:01.907842Z"
    },
    "papermill": {
     "duration": 0.101899,
     "end_time": "2024-10-10T07:14:01.911850",
     "exception": false,
     "start_time": "2024-10-10T07:14:01.809951",
     "status": "completed"
    },
    "tags": []
   },
   "outputs": [
    {
     "name": "stderr",
     "output_type": "stream",
     "text": [
      "/opt/conda/lib/python3.10/site-packages/keras/src/layers/core/dense.py:87: UserWarning: Do not pass an `input_shape`/`input_dim` argument to a layer. When using Sequential models, prefer using an `Input(shape)` object as the first layer in the model instead.\n",
      "  super().__init__(activity_regularizer=activity_regularizer, **kwargs)\n"
     ]
    }
   ],
   "source": [
    "model = Sequential()\n",
    "\n",
    "model.add(Dense(3,activation = 'sigmoid',input_dim = 11))\n",
    "model.add(Dense(1,activation = 'sigmoid'))\n"
   ]
  },
  {
   "cell_type": "code",
   "execution_count": 27,
   "id": "bb183fb1",
   "metadata": {
    "execution": {
     "iopub.execute_input": "2024-10-10T07:14:01.937847Z",
     "iopub.status.busy": "2024-10-10T07:14:01.937396Z",
     "iopub.status.idle": "2024-10-10T07:14:01.955921Z",
     "shell.execute_reply": "2024-10-10T07:14:01.954884Z"
    },
    "papermill": {
     "duration": 0.03455,
     "end_time": "2024-10-10T07:14:01.958480",
     "exception": false,
     "start_time": "2024-10-10T07:14:01.923930",
     "status": "completed"
    },
    "tags": []
   },
   "outputs": [
    {
     "data": {
      "text/html": [
       "<pre style=\"white-space:pre;overflow-x:auto;line-height:normal;font-family:Menlo,'DejaVu Sans Mono',consolas,'Courier New',monospace\"><span style=\"font-weight: bold\">Model: \"sequential\"</span>\n",
       "</pre>\n"
      ],
      "text/plain": [
       "\u001b[1mModel: \"sequential\"\u001b[0m\n"
      ]
     },
     "metadata": {},
     "output_type": "display_data"
    },
    {
     "data": {
      "text/html": [
       "<pre style=\"white-space:pre;overflow-x:auto;line-height:normal;font-family:Menlo,'DejaVu Sans Mono',consolas,'Courier New',monospace\">┏━━━━━━━━━━━━━━━━━━━━━━━━━━━━━━━━━┳━━━━━━━━━━━━━━━━━━━━━━━━┳━━━━━━━━━━━━━━━┓\n",
       "┃<span style=\"font-weight: bold\"> Layer (type)                    </span>┃<span style=\"font-weight: bold\"> Output Shape           </span>┃<span style=\"font-weight: bold\">       Param # </span>┃\n",
       "┡━━━━━━━━━━━━━━━━━━━━━━━━━━━━━━━━━╇━━━━━━━━━━━━━━━━━━━━━━━━╇━━━━━━━━━━━━━━━┩\n",
       "│ dense (<span style=\"color: #0087ff; text-decoration-color: #0087ff\">Dense</span>)                   │ (<span style=\"color: #00d7ff; text-decoration-color: #00d7ff\">None</span>, <span style=\"color: #00af00; text-decoration-color: #00af00\">3</span>)              │            <span style=\"color: #00af00; text-decoration-color: #00af00\">36</span> │\n",
       "├─────────────────────────────────┼────────────────────────┼───────────────┤\n",
       "│ dense_1 (<span style=\"color: #0087ff; text-decoration-color: #0087ff\">Dense</span>)                 │ (<span style=\"color: #00d7ff; text-decoration-color: #00d7ff\">None</span>, <span style=\"color: #00af00; text-decoration-color: #00af00\">1</span>)              │             <span style=\"color: #00af00; text-decoration-color: #00af00\">4</span> │\n",
       "└─────────────────────────────────┴────────────────────────┴───────────────┘\n",
       "</pre>\n"
      ],
      "text/plain": [
       "┏━━━━━━━━━━━━━━━━━━━━━━━━━━━━━━━━━┳━━━━━━━━━━━━━━━━━━━━━━━━┳━━━━━━━━━━━━━━━┓\n",
       "┃\u001b[1m \u001b[0m\u001b[1mLayer (type)                   \u001b[0m\u001b[1m \u001b[0m┃\u001b[1m \u001b[0m\u001b[1mOutput Shape          \u001b[0m\u001b[1m \u001b[0m┃\u001b[1m \u001b[0m\u001b[1m      Param #\u001b[0m\u001b[1m \u001b[0m┃\n",
       "┡━━━━━━━━━━━━━━━━━━━━━━━━━━━━━━━━━╇━━━━━━━━━━━━━━━━━━━━━━━━╇━━━━━━━━━━━━━━━┩\n",
       "│ dense (\u001b[38;5;33mDense\u001b[0m)                   │ (\u001b[38;5;45mNone\u001b[0m, \u001b[38;5;34m3\u001b[0m)              │            \u001b[38;5;34m36\u001b[0m │\n",
       "├─────────────────────────────────┼────────────────────────┼───────────────┤\n",
       "│ dense_1 (\u001b[38;5;33mDense\u001b[0m)                 │ (\u001b[38;5;45mNone\u001b[0m, \u001b[38;5;34m1\u001b[0m)              │             \u001b[38;5;34m4\u001b[0m │\n",
       "└─────────────────────────────────┴────────────────────────┴───────────────┘\n"
      ]
     },
     "metadata": {},
     "output_type": "display_data"
    },
    {
     "data": {
      "text/html": [
       "<pre style=\"white-space:pre;overflow-x:auto;line-height:normal;font-family:Menlo,'DejaVu Sans Mono',consolas,'Courier New',monospace\"><span style=\"font-weight: bold\"> Total params: </span><span style=\"color: #00af00; text-decoration-color: #00af00\">40</span> (160.00 B)\n",
       "</pre>\n"
      ],
      "text/plain": [
       "\u001b[1m Total params: \u001b[0m\u001b[38;5;34m40\u001b[0m (160.00 B)\n"
      ]
     },
     "metadata": {},
     "output_type": "display_data"
    },
    {
     "data": {
      "text/html": [
       "<pre style=\"white-space:pre;overflow-x:auto;line-height:normal;font-family:Menlo,'DejaVu Sans Mono',consolas,'Courier New',monospace\"><span style=\"font-weight: bold\"> Trainable params: </span><span style=\"color: #00af00; text-decoration-color: #00af00\">40</span> (160.00 B)\n",
       "</pre>\n"
      ],
      "text/plain": [
       "\u001b[1m Trainable params: \u001b[0m\u001b[38;5;34m40\u001b[0m (160.00 B)\n"
      ]
     },
     "metadata": {},
     "output_type": "display_data"
    },
    {
     "data": {
      "text/html": [
       "<pre style=\"white-space:pre;overflow-x:auto;line-height:normal;font-family:Menlo,'DejaVu Sans Mono',consolas,'Courier New',monospace\"><span style=\"font-weight: bold\"> Non-trainable params: </span><span style=\"color: #00af00; text-decoration-color: #00af00\">0</span> (0.00 B)\n",
       "</pre>\n"
      ],
      "text/plain": [
       "\u001b[1m Non-trainable params: \u001b[0m\u001b[38;5;34m0\u001b[0m (0.00 B)\n"
      ]
     },
     "metadata": {},
     "output_type": "display_data"
    }
   ],
   "source": [
    "model.summary()"
   ]
  },
  {
   "cell_type": "code",
   "execution_count": 28,
   "id": "4e474ede",
   "metadata": {
    "execution": {
     "iopub.execute_input": "2024-10-10T07:14:01.986483Z",
     "iopub.status.busy": "2024-10-10T07:14:01.985727Z",
     "iopub.status.idle": "2024-10-10T07:14:02.001207Z",
     "shell.execute_reply": "2024-10-10T07:14:01.999946Z"
    },
    "papermill": {
     "duration": 0.032265,
     "end_time": "2024-10-10T07:14:02.003754",
     "exception": false,
     "start_time": "2024-10-10T07:14:01.971489",
     "status": "completed"
    },
    "tags": []
   },
   "outputs": [],
   "source": [
    "model.compile(loss='binary_crossentropy',optimizer = 'Adam')"
   ]
  },
  {
   "cell_type": "code",
   "execution_count": 29,
   "id": "8a24bf6d",
   "metadata": {
    "execution": {
     "iopub.execute_input": "2024-10-10T07:14:02.031782Z",
     "iopub.status.busy": "2024-10-10T07:14:02.031370Z",
     "iopub.status.idle": "2024-10-10T07:14:06.274021Z",
     "shell.execute_reply": "2024-10-10T07:14:06.272976Z"
    },
    "papermill": {
     "duration": 4.259421,
     "end_time": "2024-10-10T07:14:06.276463",
     "exception": false,
     "start_time": "2024-10-10T07:14:02.017042",
     "status": "completed"
    },
    "tags": []
   },
   "outputs": [
    {
     "name": "stdout",
     "output_type": "stream",
     "text": [
      "Epoch 1/10\n",
      "\u001b[1m250/250\u001b[0m \u001b[32m━━━━━━━━━━━━━━━━━━━━\u001b[0m\u001b[37m\u001b[0m \u001b[1m1s\u001b[0m 1ms/step - loss: 0.6536\n",
      "Epoch 2/10\n",
      "\u001b[1m250/250\u001b[0m \u001b[32m━━━━━━━━━━━━━━━━━━━━\u001b[0m\u001b[37m\u001b[0m \u001b[1m0s\u001b[0m 1ms/step - loss: 0.5291\n",
      "Epoch 3/10\n",
      "\u001b[1m250/250\u001b[0m \u001b[32m━━━━━━━━━━━━━━━━━━━━\u001b[0m\u001b[37m\u001b[0m \u001b[1m0s\u001b[0m 1ms/step - loss: 0.4723\n",
      "Epoch 4/10\n",
      "\u001b[1m250/250\u001b[0m \u001b[32m━━━━━━━━━━━━━━━━━━━━\u001b[0m\u001b[37m\u001b[0m \u001b[1m0s\u001b[0m 1ms/step - loss: 0.4597\n",
      "Epoch 5/10\n",
      "\u001b[1m250/250\u001b[0m \u001b[32m━━━━━━━━━━━━━━━━━━━━\u001b[0m\u001b[37m\u001b[0m \u001b[1m0s\u001b[0m 1ms/step - loss: 0.4480\n",
      "Epoch 6/10\n",
      "\u001b[1m250/250\u001b[0m \u001b[32m━━━━━━━━━━━━━━━━━━━━\u001b[0m\u001b[37m\u001b[0m \u001b[1m0s\u001b[0m 1ms/step - loss: 0.4439\n",
      "Epoch 7/10\n",
      "\u001b[1m250/250\u001b[0m \u001b[32m━━━━━━━━━━━━━━━━━━━━\u001b[0m\u001b[37m\u001b[0m \u001b[1m0s\u001b[0m 1ms/step - loss: 0.4319\n",
      "Epoch 8/10\n",
      "\u001b[1m250/250\u001b[0m \u001b[32m━━━━━━━━━━━━━━━━━━━━\u001b[0m\u001b[37m\u001b[0m \u001b[1m0s\u001b[0m 1ms/step - loss: 0.4268\n",
      "Epoch 9/10\n",
      "\u001b[1m250/250\u001b[0m \u001b[32m━━━━━━━━━━━━━━━━━━━━\u001b[0m\u001b[37m\u001b[0m \u001b[1m0s\u001b[0m 1ms/step - loss: 0.4256\n",
      "Epoch 10/10\n",
      "\u001b[1m250/250\u001b[0m \u001b[32m━━━━━━━━━━━━━━━━━━━━\u001b[0m\u001b[37m\u001b[0m \u001b[1m0s\u001b[0m 1ms/step - loss: 0.4326\n"
     ]
    },
    {
     "data": {
      "text/plain": [
       "<keras.src.callbacks.history.History at 0x7ae15b3e0eb0>"
      ]
     },
     "execution_count": 29,
     "metadata": {},
     "output_type": "execute_result"
    }
   ],
   "source": [
    "model.fit(X_train_scaled,y_train,epochs = 10)"
   ]
  },
  {
   "cell_type": "code",
   "execution_count": 30,
   "id": "d12137fa",
   "metadata": {
    "execution": {
     "iopub.execute_input": "2024-10-10T07:14:06.315410Z",
     "iopub.status.busy": "2024-10-10T07:14:06.314992Z",
     "iopub.status.idle": "2024-10-10T07:14:06.326271Z",
     "shell.execute_reply": "2024-10-10T07:14:06.325129Z"
    },
    "papermill": {
     "duration": 0.033762,
     "end_time": "2024-10-10T07:14:06.328837",
     "exception": false,
     "start_time": "2024-10-10T07:14:06.295075",
     "status": "completed"
    },
    "tags": []
   },
   "outputs": [
    {
     "data": {
      "text/plain": [
       "[array([[ 0.13159057, -0.01302841,  0.06152526],\n",
       "        [-1.8044518 ,  0.43197462, -0.5915435 ],\n",
       "        [ 0.20421505, -0.00700233, -0.17602254],\n",
       "        [-0.24577317,  0.20021954, -0.08484501],\n",
       "        [-0.03259679, -0.22403961,  0.1736079 ],\n",
       "        [-0.24061401, -0.06665327,  0.34770268],\n",
       "        [ 0.14289221, -1.1795697 ,  0.538594  ],\n",
       "        [ 0.0404143 , -0.26473224, -0.34171945],\n",
       "        [-0.12487497,  0.18097535, -1.0511718 ],\n",
       "        [-0.00892225, -0.07504494, -0.08536943],\n",
       "        [ 0.32111815, -0.04797521,  0.58726496]], dtype=float32),\n",
       " array([ 0.2938273 , -0.41708705,  0.40013337], dtype=float32)]"
      ]
     },
     "execution_count": 30,
     "metadata": {},
     "output_type": "execute_result"
    }
   ],
   "source": [
    "model.layers[0].get_weights()"
   ]
  },
  {
   "cell_type": "code",
   "execution_count": 31,
   "id": "da6e5497",
   "metadata": {
    "execution": {
     "iopub.execute_input": "2024-10-10T07:14:06.369416Z",
     "iopub.status.busy": "2024-10-10T07:14:06.367767Z",
     "iopub.status.idle": "2024-10-10T07:14:06.380199Z",
     "shell.execute_reply": "2024-10-10T07:14:06.378900Z"
    },
    "papermill": {
     "duration": 0.035469,
     "end_time": "2024-10-10T07:14:06.382755",
     "exception": false,
     "start_time": "2024-10-10T07:14:06.347286",
     "status": "completed"
    },
    "tags": []
   },
   "outputs": [
    {
     "data": {
      "text/plain": [
       "[array([[-1.8148524],\n",
       "        [ 1.000295 ],\n",
       "        [-1.15838  ]], dtype=float32),\n",
       " array([-0.3145718], dtype=float32)]"
      ]
     },
     "execution_count": 31,
     "metadata": {},
     "output_type": "execute_result"
    }
   ],
   "source": [
    "model.layers[1].get_weights()"
   ]
  },
  {
   "cell_type": "code",
   "execution_count": 32,
   "id": "3f2c1e0d",
   "metadata": {
    "execution": {
     "iopub.execute_input": "2024-10-10T07:14:06.421897Z",
     "iopub.status.busy": "2024-10-10T07:14:06.421463Z",
     "iopub.status.idle": "2024-10-10T07:14:06.666459Z",
     "shell.execute_reply": "2024-10-10T07:14:06.665267Z"
    },
    "papermill": {
     "duration": 0.267762,
     "end_time": "2024-10-10T07:14:06.669232",
     "exception": false,
     "start_time": "2024-10-10T07:14:06.401470",
     "status": "completed"
    },
    "tags": []
   },
   "outputs": [
    {
     "name": "stdout",
     "output_type": "stream",
     "text": [
      "\u001b[1m63/63\u001b[0m \u001b[32m━━━━━━━━━━━━━━━━━━━━\u001b[0m\u001b[37m\u001b[0m \u001b[1m0s\u001b[0m 2ms/step\n"
     ]
    },
    {
     "data": {
      "text/plain": [
       "array([[0.20710416],\n",
       "       [0.10525922],\n",
       "       [0.31939018],\n",
       "       ...,\n",
       "       [0.37422162],\n",
       "       [0.08193336],\n",
       "       [0.18923089]], dtype=float32)"
      ]
     },
     "execution_count": 32,
     "metadata": {},
     "output_type": "execute_result"
    }
   ],
   "source": [
    "model.predict(X_test_scaled)"
   ]
  },
  {
   "cell_type": "code",
   "execution_count": 33,
   "id": "c5ec6f02",
   "metadata": {
    "execution": {
     "iopub.execute_input": "2024-10-10T07:14:06.709043Z",
     "iopub.status.busy": "2024-10-10T07:14:06.708203Z",
     "iopub.status.idle": "2024-10-10T07:14:06.875373Z",
     "shell.execute_reply": "2024-10-10T07:14:06.874132Z"
    },
    "papermill": {
     "duration": 0.189709,
     "end_time": "2024-10-10T07:14:06.878079",
     "exception": false,
     "start_time": "2024-10-10T07:14:06.688370",
     "status": "completed"
    },
    "tags": []
   },
   "outputs": [
    {
     "name": "stdout",
     "output_type": "stream",
     "text": [
      "\u001b[1m63/63\u001b[0m \u001b[32m━━━━━━━━━━━━━━━━━━━━\u001b[0m\u001b[37m\u001b[0m \u001b[1m0s\u001b[0m 1ms/step\n"
     ]
    }
   ],
   "source": [
    "y_log = model.predict(X_test_scaled)"
   ]
  },
  {
   "cell_type": "code",
   "execution_count": 34,
   "id": "ffb90bb2",
   "metadata": {
    "execution": {
     "iopub.execute_input": "2024-10-10T07:14:06.918370Z",
     "iopub.status.busy": "2024-10-10T07:14:06.917942Z",
     "iopub.status.idle": "2024-10-10T07:14:06.923533Z",
     "shell.execute_reply": "2024-10-10T07:14:06.922405Z"
    },
    "papermill": {
     "duration": 0.028513,
     "end_time": "2024-10-10T07:14:06.925907",
     "exception": false,
     "start_time": "2024-10-10T07:14:06.897394",
     "status": "completed"
    },
    "tags": []
   },
   "outputs": [],
   "source": [
    "y_pred = np.where(y_log > 0.5, 1.0, 0.0)\n"
   ]
  },
  {
   "cell_type": "code",
   "execution_count": 35,
   "id": "41f029d7",
   "metadata": {
    "execution": {
     "iopub.execute_input": "2024-10-10T07:14:06.966515Z",
     "iopub.status.busy": "2024-10-10T07:14:06.966067Z",
     "iopub.status.idle": "2024-10-10T07:14:06.976495Z",
     "shell.execute_reply": "2024-10-10T07:14:06.974962Z"
    },
    "papermill": {
     "duration": 0.033856,
     "end_time": "2024-10-10T07:14:06.979454",
     "exception": false,
     "start_time": "2024-10-10T07:14:06.945598",
     "status": "completed"
    },
    "tags": []
   },
   "outputs": [
    {
     "data": {
      "text/plain": [
       "0.823"
      ]
     },
     "execution_count": 35,
     "metadata": {},
     "output_type": "execute_result"
    }
   ],
   "source": [
    "from sklearn.metrics import accuracy_score\n",
    "accuracy_score(y_test,y_pred)\n"
   ]
  },
  {
   "cell_type": "markdown",
   "id": "7d98b841",
   "metadata": {
    "papermill": {
     "duration": 0.018845,
     "end_time": "2024-10-10T07:14:07.018135",
     "exception": false,
     "start_time": "2024-10-10T07:14:06.999290",
     "status": "completed"
    },
    "tags": []
   },
   "source": [
    "Let's try doing some experiment by changing layers , activation function etc"
   ]
  },
  {
   "cell_type": "code",
   "execution_count": 36,
   "id": "fcab39dc",
   "metadata": {
    "execution": {
     "iopub.execute_input": "2024-10-10T07:14:07.058435Z",
     "iopub.status.busy": "2024-10-10T07:14:07.058033Z",
     "iopub.status.idle": "2024-10-10T07:14:07.098262Z",
     "shell.execute_reply": "2024-10-10T07:14:07.096926Z"
    },
    "papermill": {
     "duration": 0.063547,
     "end_time": "2024-10-10T07:14:07.100932",
     "exception": false,
     "start_time": "2024-10-10T07:14:07.037385",
     "status": "completed"
    },
    "tags": []
   },
   "outputs": [],
   "source": [
    "# Initialize the Sequential model\n",
    "model_1 = Sequential()\n",
    "\n",
    "# Use Input layer to define the input shape\n",
    "model_1.add(Input(shape=(11,)))\n",
    "\n",
    "# Add other layers\n",
    "model_1.add(Dense(11, activation='relu'))\n",
    "model_1.add(Dense(11, activation='relu'))\n",
    "\n",
    "# Output layer\n",
    "model_1.add(Dense(1, activation='sigmoid'))"
   ]
  },
  {
   "cell_type": "code",
   "execution_count": 37,
   "id": "16795f39",
   "metadata": {
    "execution": {
     "iopub.execute_input": "2024-10-10T07:14:07.142165Z",
     "iopub.status.busy": "2024-10-10T07:14:07.141651Z",
     "iopub.status.idle": "2024-10-10T07:14:07.160788Z",
     "shell.execute_reply": "2024-10-10T07:14:07.159654Z"
    },
    "papermill": {
     "duration": 0.042634,
     "end_time": "2024-10-10T07:14:07.163229",
     "exception": false,
     "start_time": "2024-10-10T07:14:07.120595",
     "status": "completed"
    },
    "tags": []
   },
   "outputs": [
    {
     "data": {
      "text/html": [
       "<pre style=\"white-space:pre;overflow-x:auto;line-height:normal;font-family:Menlo,'DejaVu Sans Mono',consolas,'Courier New',monospace\"><span style=\"font-weight: bold\">Model: \"sequential_1\"</span>\n",
       "</pre>\n"
      ],
      "text/plain": [
       "\u001b[1mModel: \"sequential_1\"\u001b[0m\n"
      ]
     },
     "metadata": {},
     "output_type": "display_data"
    },
    {
     "data": {
      "text/html": [
       "<pre style=\"white-space:pre;overflow-x:auto;line-height:normal;font-family:Menlo,'DejaVu Sans Mono',consolas,'Courier New',monospace\">┏━━━━━━━━━━━━━━━━━━━━━━━━━━━━━━━━━┳━━━━━━━━━━━━━━━━━━━━━━━━┳━━━━━━━━━━━━━━━┓\n",
       "┃<span style=\"font-weight: bold\"> Layer (type)                    </span>┃<span style=\"font-weight: bold\"> Output Shape           </span>┃<span style=\"font-weight: bold\">       Param # </span>┃\n",
       "┡━━━━━━━━━━━━━━━━━━━━━━━━━━━━━━━━━╇━━━━━━━━━━━━━━━━━━━━━━━━╇━━━━━━━━━━━━━━━┩\n",
       "│ dense_2 (<span style=\"color: #0087ff; text-decoration-color: #0087ff\">Dense</span>)                 │ (<span style=\"color: #00d7ff; text-decoration-color: #00d7ff\">None</span>, <span style=\"color: #00af00; text-decoration-color: #00af00\">11</span>)             │           <span style=\"color: #00af00; text-decoration-color: #00af00\">132</span> │\n",
       "├─────────────────────────────────┼────────────────────────┼───────────────┤\n",
       "│ dense_3 (<span style=\"color: #0087ff; text-decoration-color: #0087ff\">Dense</span>)                 │ (<span style=\"color: #00d7ff; text-decoration-color: #00d7ff\">None</span>, <span style=\"color: #00af00; text-decoration-color: #00af00\">11</span>)             │           <span style=\"color: #00af00; text-decoration-color: #00af00\">132</span> │\n",
       "├─────────────────────────────────┼────────────────────────┼───────────────┤\n",
       "│ dense_4 (<span style=\"color: #0087ff; text-decoration-color: #0087ff\">Dense</span>)                 │ (<span style=\"color: #00d7ff; text-decoration-color: #00d7ff\">None</span>, <span style=\"color: #00af00; text-decoration-color: #00af00\">1</span>)              │            <span style=\"color: #00af00; text-decoration-color: #00af00\">12</span> │\n",
       "└─────────────────────────────────┴────────────────────────┴───────────────┘\n",
       "</pre>\n"
      ],
      "text/plain": [
       "┏━━━━━━━━━━━━━━━━━━━━━━━━━━━━━━━━━┳━━━━━━━━━━━━━━━━━━━━━━━━┳━━━━━━━━━━━━━━━┓\n",
       "┃\u001b[1m \u001b[0m\u001b[1mLayer (type)                   \u001b[0m\u001b[1m \u001b[0m┃\u001b[1m \u001b[0m\u001b[1mOutput Shape          \u001b[0m\u001b[1m \u001b[0m┃\u001b[1m \u001b[0m\u001b[1m      Param #\u001b[0m\u001b[1m \u001b[0m┃\n",
       "┡━━━━━━━━━━━━━━━━━━━━━━━━━━━━━━━━━╇━━━━━━━━━━━━━━━━━━━━━━━━╇━━━━━━━━━━━━━━━┩\n",
       "│ dense_2 (\u001b[38;5;33mDense\u001b[0m)                 │ (\u001b[38;5;45mNone\u001b[0m, \u001b[38;5;34m11\u001b[0m)             │           \u001b[38;5;34m132\u001b[0m │\n",
       "├─────────────────────────────────┼────────────────────────┼───────────────┤\n",
       "│ dense_3 (\u001b[38;5;33mDense\u001b[0m)                 │ (\u001b[38;5;45mNone\u001b[0m, \u001b[38;5;34m11\u001b[0m)             │           \u001b[38;5;34m132\u001b[0m │\n",
       "├─────────────────────────────────┼────────────────────────┼───────────────┤\n",
       "│ dense_4 (\u001b[38;5;33mDense\u001b[0m)                 │ (\u001b[38;5;45mNone\u001b[0m, \u001b[38;5;34m1\u001b[0m)              │            \u001b[38;5;34m12\u001b[0m │\n",
       "└─────────────────────────────────┴────────────────────────┴───────────────┘\n"
      ]
     },
     "metadata": {},
     "output_type": "display_data"
    },
    {
     "data": {
      "text/html": [
       "<pre style=\"white-space:pre;overflow-x:auto;line-height:normal;font-family:Menlo,'DejaVu Sans Mono',consolas,'Courier New',monospace\"><span style=\"font-weight: bold\"> Total params: </span><span style=\"color: #00af00; text-decoration-color: #00af00\">276</span> (1.08 KB)\n",
       "</pre>\n"
      ],
      "text/plain": [
       "\u001b[1m Total params: \u001b[0m\u001b[38;5;34m276\u001b[0m (1.08 KB)\n"
      ]
     },
     "metadata": {},
     "output_type": "display_data"
    },
    {
     "data": {
      "text/html": [
       "<pre style=\"white-space:pre;overflow-x:auto;line-height:normal;font-family:Menlo,'DejaVu Sans Mono',consolas,'Courier New',monospace\"><span style=\"font-weight: bold\"> Trainable params: </span><span style=\"color: #00af00; text-decoration-color: #00af00\">276</span> (1.08 KB)\n",
       "</pre>\n"
      ],
      "text/plain": [
       "\u001b[1m Trainable params: \u001b[0m\u001b[38;5;34m276\u001b[0m (1.08 KB)\n"
      ]
     },
     "metadata": {},
     "output_type": "display_data"
    },
    {
     "data": {
      "text/html": [
       "<pre style=\"white-space:pre;overflow-x:auto;line-height:normal;font-family:Menlo,'DejaVu Sans Mono',consolas,'Courier New',monospace\"><span style=\"font-weight: bold\"> Non-trainable params: </span><span style=\"color: #00af00; text-decoration-color: #00af00\">0</span> (0.00 B)\n",
       "</pre>\n"
      ],
      "text/plain": [
       "\u001b[1m Non-trainable params: \u001b[0m\u001b[38;5;34m0\u001b[0m (0.00 B)\n"
      ]
     },
     "metadata": {},
     "output_type": "display_data"
    }
   ],
   "source": [
    "model_1.summary()"
   ]
  },
  {
   "cell_type": "code",
   "execution_count": 38,
   "id": "b12306e5",
   "metadata": {
    "execution": {
     "iopub.execute_input": "2024-10-10T07:14:07.205929Z",
     "iopub.status.busy": "2024-10-10T07:14:07.205486Z",
     "iopub.status.idle": "2024-10-10T07:14:07.215446Z",
     "shell.execute_reply": "2024-10-10T07:14:07.214350Z"
    },
    "papermill": {
     "duration": 0.033796,
     "end_time": "2024-10-10T07:14:07.217987",
     "exception": false,
     "start_time": "2024-10-10T07:14:07.184191",
     "status": "completed"
    },
    "tags": []
   },
   "outputs": [],
   "source": [
    "model_1.compile(loss='binary_crossentropy', optimizer='adam', metrics=['accuracy'])\n"
   ]
  },
  {
   "cell_type": "code",
   "execution_count": 39,
   "id": "86709800",
   "metadata": {
    "execution": {
     "iopub.execute_input": "2024-10-10T07:14:07.259727Z",
     "iopub.status.busy": "2024-10-10T07:14:07.259316Z",
     "iopub.status.idle": "2024-10-10T07:14:46.181503Z",
     "shell.execute_reply": "2024-10-10T07:14:46.180394Z"
    },
    "papermill": {
     "duration": 38.94598,
     "end_time": "2024-10-10T07:14:46.183906",
     "exception": false,
     "start_time": "2024-10-10T07:14:07.237926",
     "status": "completed"
    },
    "tags": []
   },
   "outputs": [
    {
     "name": "stdout",
     "output_type": "stream",
     "text": [
      "Epoch 1/100\n",
      "\u001b[1m200/200\u001b[0m \u001b[32m━━━━━━━━━━━━━━━━━━━━\u001b[0m\u001b[37m\u001b[0m \u001b[1m2s\u001b[0m 2ms/step - accuracy: 0.6243 - loss: 0.6457 - val_accuracy: 0.8119 - val_loss: 0.4676\n",
      "Epoch 2/100\n",
      "\u001b[1m200/200\u001b[0m \u001b[32m━━━━━━━━━━━━━━━━━━━━\u001b[0m\u001b[37m\u001b[0m \u001b[1m0s\u001b[0m 2ms/step - accuracy: 0.8011 - loss: 0.4769 - val_accuracy: 0.8225 - val_loss: 0.4265\n",
      "Epoch 3/100\n",
      "\u001b[1m200/200\u001b[0m \u001b[32m━━━━━━━━━━━━━━━━━━━━\u001b[0m\u001b[37m\u001b[0m \u001b[1m0s\u001b[0m 2ms/step - accuracy: 0.8121 - loss: 0.4355 - val_accuracy: 0.8269 - val_loss: 0.4137\n",
      "Epoch 4/100\n",
      "\u001b[1m200/200\u001b[0m \u001b[32m━━━━━━━━━━━━━━━━━━━━\u001b[0m\u001b[37m\u001b[0m \u001b[1m0s\u001b[0m 2ms/step - accuracy: 0.8108 - loss: 0.4280 - val_accuracy: 0.8338 - val_loss: 0.4028\n",
      "Epoch 5/100\n",
      "\u001b[1m200/200\u001b[0m \u001b[32m━━━━━━━━━━━━━━━━━━━━\u001b[0m\u001b[37m\u001b[0m \u001b[1m0s\u001b[0m 2ms/step - accuracy: 0.8293 - loss: 0.4014 - val_accuracy: 0.8288 - val_loss: 0.3912\n",
      "Epoch 6/100\n",
      "\u001b[1m200/200\u001b[0m \u001b[32m━━━━━━━━━━━━━━━━━━━━\u001b[0m\u001b[37m\u001b[0m \u001b[1m0s\u001b[0m 2ms/step - accuracy: 0.8376 - loss: 0.3942 - val_accuracy: 0.8338 - val_loss: 0.3814\n",
      "Epoch 7/100\n",
      "\u001b[1m200/200\u001b[0m \u001b[32m━━━━━━━━━━━━━━━━━━━━\u001b[0m\u001b[37m\u001b[0m \u001b[1m0s\u001b[0m 2ms/step - accuracy: 0.8372 - loss: 0.3889 - val_accuracy: 0.8331 - val_loss: 0.3735\n",
      "Epoch 8/100\n",
      "\u001b[1m200/200\u001b[0m \u001b[32m━━━━━━━━━━━━━━━━━━━━\u001b[0m\u001b[37m\u001b[0m \u001b[1m0s\u001b[0m 2ms/step - accuracy: 0.8453 - loss: 0.3648 - val_accuracy: 0.8375 - val_loss: 0.3679\n",
      "Epoch 9/100\n",
      "\u001b[1m200/200\u001b[0m \u001b[32m━━━━━━━━━━━━━━━━━━━━\u001b[0m\u001b[37m\u001b[0m \u001b[1m0s\u001b[0m 2ms/step - accuracy: 0.8442 - loss: 0.3690 - val_accuracy: 0.8406 - val_loss: 0.3646\n",
      "Epoch 10/100\n",
      "\u001b[1m200/200\u001b[0m \u001b[32m━━━━━━━━━━━━━━━━━━━━\u001b[0m\u001b[37m\u001b[0m \u001b[1m0s\u001b[0m 2ms/step - accuracy: 0.8438 - loss: 0.3663 - val_accuracy: 0.8462 - val_loss: 0.3610\n",
      "Epoch 11/100\n",
      "\u001b[1m200/200\u001b[0m \u001b[32m━━━━━━━━━━━━━━━━━━━━\u001b[0m\u001b[37m\u001b[0m \u001b[1m0s\u001b[0m 2ms/step - accuracy: 0.8517 - loss: 0.3427 - val_accuracy: 0.8388 - val_loss: 0.3580\n",
      "Epoch 12/100\n",
      "\u001b[1m200/200\u001b[0m \u001b[32m━━━━━━━━━━━━━━━━━━━━\u001b[0m\u001b[37m\u001b[0m \u001b[1m0s\u001b[0m 2ms/step - accuracy: 0.8518 - loss: 0.3450 - val_accuracy: 0.8450 - val_loss: 0.3559\n",
      "Epoch 13/100\n",
      "\u001b[1m200/200\u001b[0m \u001b[32m━━━━━━━━━━━━━━━━━━━━\u001b[0m\u001b[37m\u001b[0m \u001b[1m0s\u001b[0m 2ms/step - accuracy: 0.8586 - loss: 0.3440 - val_accuracy: 0.8456 - val_loss: 0.3539\n",
      "Epoch 14/100\n",
      "\u001b[1m200/200\u001b[0m \u001b[32m━━━━━━━━━━━━━━━━━━━━\u001b[0m\u001b[37m\u001b[0m \u001b[1m0s\u001b[0m 2ms/step - accuracy: 0.8584 - loss: 0.3407 - val_accuracy: 0.8487 - val_loss: 0.3527\n",
      "Epoch 15/100\n",
      "\u001b[1m200/200\u001b[0m \u001b[32m━━━━━━━━━━━━━━━━━━━━\u001b[0m\u001b[37m\u001b[0m \u001b[1m0s\u001b[0m 2ms/step - accuracy: 0.8554 - loss: 0.3457 - val_accuracy: 0.8444 - val_loss: 0.3508\n",
      "Epoch 16/100\n",
      "\u001b[1m200/200\u001b[0m \u001b[32m━━━━━━━━━━━━━━━━━━━━\u001b[0m\u001b[37m\u001b[0m \u001b[1m0s\u001b[0m 2ms/step - accuracy: 0.8617 - loss: 0.3400 - val_accuracy: 0.8519 - val_loss: 0.3515\n",
      "Epoch 17/100\n",
      "\u001b[1m200/200\u001b[0m \u001b[32m━━━━━━━━━━━━━━━━━━━━\u001b[0m\u001b[37m\u001b[0m \u001b[1m0s\u001b[0m 2ms/step - accuracy: 0.8551 - loss: 0.3403 - val_accuracy: 0.8506 - val_loss: 0.3495\n",
      "Epoch 18/100\n",
      "\u001b[1m200/200\u001b[0m \u001b[32m━━━━━━━━━━━━━━━━━━━━\u001b[0m\u001b[37m\u001b[0m \u001b[1m0s\u001b[0m 2ms/step - accuracy: 0.8530 - loss: 0.3411 - val_accuracy: 0.8487 - val_loss: 0.3491\n",
      "Epoch 19/100\n",
      "\u001b[1m200/200\u001b[0m \u001b[32m━━━━━━━━━━━━━━━━━━━━\u001b[0m\u001b[37m\u001b[0m \u001b[1m0s\u001b[0m 2ms/step - accuracy: 0.8479 - loss: 0.3533 - val_accuracy: 0.8481 - val_loss: 0.3477\n",
      "Epoch 20/100\n",
      "\u001b[1m200/200\u001b[0m \u001b[32m━━━━━━━━━━━━━━━━━━━━\u001b[0m\u001b[37m\u001b[0m \u001b[1m0s\u001b[0m 2ms/step - accuracy: 0.8562 - loss: 0.3456 - val_accuracy: 0.8506 - val_loss: 0.3491\n",
      "Epoch 21/100\n",
      "\u001b[1m200/200\u001b[0m \u001b[32m━━━━━━━━━━━━━━━━━━━━\u001b[0m\u001b[37m\u001b[0m \u001b[1m0s\u001b[0m 2ms/step - accuracy: 0.8602 - loss: 0.3324 - val_accuracy: 0.8506 - val_loss: 0.3475\n",
      "Epoch 22/100\n",
      "\u001b[1m200/200\u001b[0m \u001b[32m━━━━━━━━━━━━━━━━━━━━\u001b[0m\u001b[37m\u001b[0m \u001b[1m0s\u001b[0m 2ms/step - accuracy: 0.8644 - loss: 0.3387 - val_accuracy: 0.8494 - val_loss: 0.3466\n",
      "Epoch 23/100\n",
      "\u001b[1m200/200\u001b[0m \u001b[32m━━━━━━━━━━━━━━━━━━━━\u001b[0m\u001b[37m\u001b[0m \u001b[1m0s\u001b[0m 2ms/step - accuracy: 0.8639 - loss: 0.3297 - val_accuracy: 0.8475 - val_loss: 0.3475\n",
      "Epoch 24/100\n",
      "\u001b[1m200/200\u001b[0m \u001b[32m━━━━━━━━━━━━━━━━━━━━\u001b[0m\u001b[37m\u001b[0m \u001b[1m0s\u001b[0m 2ms/step - accuracy: 0.8587 - loss: 0.3367 - val_accuracy: 0.8500 - val_loss: 0.3465\n",
      "Epoch 25/100\n",
      "\u001b[1m200/200\u001b[0m \u001b[32m━━━━━━━━━━━━━━━━━━━━\u001b[0m\u001b[37m\u001b[0m \u001b[1m0s\u001b[0m 2ms/step - accuracy: 0.8619 - loss: 0.3277 - val_accuracy: 0.8506 - val_loss: 0.3460\n",
      "Epoch 26/100\n",
      "\u001b[1m200/200\u001b[0m \u001b[32m━━━━━━━━━━━━━━━━━━━━\u001b[0m\u001b[37m\u001b[0m \u001b[1m0s\u001b[0m 2ms/step - accuracy: 0.8581 - loss: 0.3372 - val_accuracy: 0.8512 - val_loss: 0.3464\n",
      "Epoch 27/100\n",
      "\u001b[1m200/200\u001b[0m \u001b[32m━━━━━━━━━━━━━━━━━━━━\u001b[0m\u001b[37m\u001b[0m \u001b[1m0s\u001b[0m 2ms/step - accuracy: 0.8582 - loss: 0.3381 - val_accuracy: 0.8506 - val_loss: 0.3458\n",
      "Epoch 28/100\n",
      "\u001b[1m200/200\u001b[0m \u001b[32m━━━━━━━━━━━━━━━━━━━━\u001b[0m\u001b[37m\u001b[0m \u001b[1m0s\u001b[0m 2ms/step - accuracy: 0.8685 - loss: 0.3256 - val_accuracy: 0.8500 - val_loss: 0.3461\n",
      "Epoch 29/100\n",
      "\u001b[1m200/200\u001b[0m \u001b[32m━━━━━━━━━━━━━━━━━━━━\u001b[0m\u001b[37m\u001b[0m \u001b[1m0s\u001b[0m 2ms/step - accuracy: 0.8657 - loss: 0.3310 - val_accuracy: 0.8519 - val_loss: 0.3450\n",
      "Epoch 30/100\n",
      "\u001b[1m200/200\u001b[0m \u001b[32m━━━━━━━━━━━━━━━━━━━━\u001b[0m\u001b[37m\u001b[0m \u001b[1m0s\u001b[0m 2ms/step - accuracy: 0.8564 - loss: 0.3407 - val_accuracy: 0.8506 - val_loss: 0.3454\n",
      "Epoch 31/100\n",
      "\u001b[1m200/200\u001b[0m \u001b[32m━━━━━━━━━━━━━━━━━━━━\u001b[0m\u001b[37m\u001b[0m \u001b[1m0s\u001b[0m 2ms/step - accuracy: 0.8697 - loss: 0.3226 - val_accuracy: 0.8519 - val_loss: 0.3445\n",
      "Epoch 32/100\n",
      "\u001b[1m200/200\u001b[0m \u001b[32m━━━━━━━━━━━━━━━━━━━━\u001b[0m\u001b[37m\u001b[0m \u001b[1m0s\u001b[0m 2ms/step - accuracy: 0.8658 - loss: 0.3303 - val_accuracy: 0.8537 - val_loss: 0.3450\n",
      "Epoch 33/100\n",
      "\u001b[1m200/200\u001b[0m \u001b[32m━━━━━━━━━━━━━━━━━━━━\u001b[0m\u001b[37m\u001b[0m \u001b[1m0s\u001b[0m 2ms/step - accuracy: 0.8632 - loss: 0.3397 - val_accuracy: 0.8531 - val_loss: 0.3454\n",
      "Epoch 34/100\n",
      "\u001b[1m200/200\u001b[0m \u001b[32m━━━━━━━━━━━━━━━━━━━━\u001b[0m\u001b[37m\u001b[0m \u001b[1m0s\u001b[0m 2ms/step - accuracy: 0.8655 - loss: 0.3333 - val_accuracy: 0.8519 - val_loss: 0.3463\n",
      "Epoch 35/100\n",
      "\u001b[1m200/200\u001b[0m \u001b[32m━━━━━━━━━━━━━━━━━━━━\u001b[0m\u001b[37m\u001b[0m \u001b[1m0s\u001b[0m 2ms/step - accuracy: 0.8502 - loss: 0.3442 - val_accuracy: 0.8544 - val_loss: 0.3448\n",
      "Epoch 36/100\n",
      "\u001b[1m200/200\u001b[0m \u001b[32m━━━━━━━━━━━━━━━━━━━━\u001b[0m\u001b[37m\u001b[0m \u001b[1m0s\u001b[0m 2ms/step - accuracy: 0.8577 - loss: 0.3335 - val_accuracy: 0.8531 - val_loss: 0.3450\n",
      "Epoch 37/100\n",
      "\u001b[1m200/200\u001b[0m \u001b[32m━━━━━━━━━━━━━━━━━━━━\u001b[0m\u001b[37m\u001b[0m \u001b[1m1s\u001b[0m 2ms/step - accuracy: 0.8669 - loss: 0.3272 - val_accuracy: 0.8512 - val_loss: 0.3439\n",
      "Epoch 38/100\n",
      "\u001b[1m200/200\u001b[0m \u001b[32m━━━━━━━━━━━━━━━━━━━━\u001b[0m\u001b[37m\u001b[0m \u001b[1m0s\u001b[0m 2ms/step - accuracy: 0.8605 - loss: 0.3286 - val_accuracy: 0.8531 - val_loss: 0.3439\n",
      "Epoch 39/100\n",
      "\u001b[1m200/200\u001b[0m \u001b[32m━━━━━━━━━━━━━━━━━━━━\u001b[0m\u001b[37m\u001b[0m \u001b[1m0s\u001b[0m 2ms/step - accuracy: 0.8674 - loss: 0.3179 - val_accuracy: 0.8506 - val_loss: 0.3455\n",
      "Epoch 40/100\n",
      "\u001b[1m200/200\u001b[0m \u001b[32m━━━━━━━━━━━━━━━━━━━━\u001b[0m\u001b[37m\u001b[0m \u001b[1m0s\u001b[0m 2ms/step - accuracy: 0.8682 - loss: 0.3272 - val_accuracy: 0.8506 - val_loss: 0.3451\n",
      "Epoch 41/100\n",
      "\u001b[1m200/200\u001b[0m \u001b[32m━━━━━━━━━━━━━━━━━━━━\u001b[0m\u001b[37m\u001b[0m \u001b[1m0s\u001b[0m 2ms/step - accuracy: 0.8675 - loss: 0.3255 - val_accuracy: 0.8512 - val_loss: 0.3441\n",
      "Epoch 42/100\n",
      "\u001b[1m200/200\u001b[0m \u001b[32m━━━━━━━━━━━━━━━━━━━━\u001b[0m\u001b[37m\u001b[0m \u001b[1m0s\u001b[0m 2ms/step - accuracy: 0.8615 - loss: 0.3306 - val_accuracy: 0.8531 - val_loss: 0.3450\n",
      "Epoch 43/100\n",
      "\u001b[1m200/200\u001b[0m \u001b[32m━━━━━━━━━━━━━━━━━━━━\u001b[0m\u001b[37m\u001b[0m \u001b[1m0s\u001b[0m 2ms/step - accuracy: 0.8602 - loss: 0.3336 - val_accuracy: 0.8525 - val_loss: 0.3448\n",
      "Epoch 44/100\n",
      "\u001b[1m200/200\u001b[0m \u001b[32m━━━━━━━━━━━━━━━━━━━━\u001b[0m\u001b[37m\u001b[0m \u001b[1m0s\u001b[0m 2ms/step - accuracy: 0.8646 - loss: 0.3278 - val_accuracy: 0.8531 - val_loss: 0.3440\n",
      "Epoch 45/100\n",
      "\u001b[1m200/200\u001b[0m \u001b[32m━━━━━━━━━━━━━━━━━━━━\u001b[0m\u001b[37m\u001b[0m \u001b[1m0s\u001b[0m 2ms/step - accuracy: 0.8585 - loss: 0.3332 - val_accuracy: 0.8531 - val_loss: 0.3441\n",
      "Epoch 46/100\n",
      "\u001b[1m200/200\u001b[0m \u001b[32m━━━━━━━━━━━━━━━━━━━━\u001b[0m\u001b[37m\u001b[0m \u001b[1m0s\u001b[0m 2ms/step - accuracy: 0.8633 - loss: 0.3340 - val_accuracy: 0.8537 - val_loss: 0.3440\n",
      "Epoch 47/100\n",
      "\u001b[1m200/200\u001b[0m \u001b[32m━━━━━━━━━━━━━━━━━━━━\u001b[0m\u001b[37m\u001b[0m \u001b[1m0s\u001b[0m 2ms/step - accuracy: 0.8636 - loss: 0.3260 - val_accuracy: 0.8550 - val_loss: 0.3451\n",
      "Epoch 48/100\n",
      "\u001b[1m200/200\u001b[0m \u001b[32m━━━━━━━━━━━━━━━━━━━━\u001b[0m\u001b[37m\u001b[0m \u001b[1m0s\u001b[0m 2ms/step - accuracy: 0.8668 - loss: 0.3232 - val_accuracy: 0.8525 - val_loss: 0.3452\n",
      "Epoch 49/100\n",
      "\u001b[1m200/200\u001b[0m \u001b[32m━━━━━━━━━━━━━━━━━━━━\u001b[0m\u001b[37m\u001b[0m \u001b[1m0s\u001b[0m 2ms/step - accuracy: 0.8658 - loss: 0.3216 - val_accuracy: 0.8562 - val_loss: 0.3441\n",
      "Epoch 50/100\n",
      "\u001b[1m200/200\u001b[0m \u001b[32m━━━━━━━━━━━━━━━━━━━━\u001b[0m\u001b[37m\u001b[0m \u001b[1m0s\u001b[0m 2ms/step - accuracy: 0.8650 - loss: 0.3295 - val_accuracy: 0.8556 - val_loss: 0.3440\n",
      "Epoch 51/100\n",
      "\u001b[1m200/200\u001b[0m \u001b[32m━━━━━━━━━━━━━━━━━━━━\u001b[0m\u001b[37m\u001b[0m \u001b[1m0s\u001b[0m 2ms/step - accuracy: 0.8642 - loss: 0.3272 - val_accuracy: 0.8544 - val_loss: 0.3450\n",
      "Epoch 52/100\n",
      "\u001b[1m200/200\u001b[0m \u001b[32m━━━━━━━━━━━━━━━━━━━━\u001b[0m\u001b[37m\u001b[0m \u001b[1m0s\u001b[0m 2ms/step - accuracy: 0.8669 - loss: 0.3227 - val_accuracy: 0.8556 - val_loss: 0.3438\n",
      "Epoch 53/100\n",
      "\u001b[1m200/200\u001b[0m \u001b[32m━━━━━━━━━━━━━━━━━━━━\u001b[0m\u001b[37m\u001b[0m \u001b[1m0s\u001b[0m 2ms/step - accuracy: 0.8635 - loss: 0.3230 - val_accuracy: 0.8550 - val_loss: 0.3458\n",
      "Epoch 54/100\n",
      "\u001b[1m200/200\u001b[0m \u001b[32m━━━━━━━━━━━━━━━━━━━━\u001b[0m\u001b[37m\u001b[0m \u001b[1m0s\u001b[0m 2ms/step - accuracy: 0.8599 - loss: 0.3274 - val_accuracy: 0.8525 - val_loss: 0.3452\n",
      "Epoch 55/100\n",
      "\u001b[1m200/200\u001b[0m \u001b[32m━━━━━━━━━━━━━━━━━━━━\u001b[0m\u001b[37m\u001b[0m \u001b[1m0s\u001b[0m 2ms/step - accuracy: 0.8582 - loss: 0.3299 - val_accuracy: 0.8550 - val_loss: 0.3445\n",
      "Epoch 56/100\n",
      "\u001b[1m200/200\u001b[0m \u001b[32m━━━━━━━━━━━━━━━━━━━━\u001b[0m\u001b[37m\u001b[0m \u001b[1m0s\u001b[0m 2ms/step - accuracy: 0.8701 - loss: 0.3117 - val_accuracy: 0.8544 - val_loss: 0.3444\n",
      "Epoch 57/100\n",
      "\u001b[1m200/200\u001b[0m \u001b[32m━━━━━━━━━━━━━━━━━━━━\u001b[0m\u001b[37m\u001b[0m \u001b[1m0s\u001b[0m 2ms/step - accuracy: 0.8700 - loss: 0.3183 - val_accuracy: 0.8531 - val_loss: 0.3438\n",
      "Epoch 58/100\n",
      "\u001b[1m200/200\u001b[0m \u001b[32m━━━━━━━━━━━━━━━━━━━━\u001b[0m\u001b[37m\u001b[0m \u001b[1m0s\u001b[0m 2ms/step - accuracy: 0.8744 - loss: 0.3069 - val_accuracy: 0.8519 - val_loss: 0.3446\n",
      "Epoch 59/100\n",
      "\u001b[1m200/200\u001b[0m \u001b[32m━━━━━━━━━━━━━━━━━━━━\u001b[0m\u001b[37m\u001b[0m \u001b[1m0s\u001b[0m 2ms/step - accuracy: 0.8647 - loss: 0.3233 - val_accuracy: 0.8569 - val_loss: 0.3442\n",
      "Epoch 60/100\n",
      "\u001b[1m200/200\u001b[0m \u001b[32m━━━━━━━━━━━━━━━━━━━━\u001b[0m\u001b[37m\u001b[0m \u001b[1m0s\u001b[0m 2ms/step - accuracy: 0.8714 - loss: 0.3190 - val_accuracy: 0.8525 - val_loss: 0.3437\n",
      "Epoch 61/100\n",
      "\u001b[1m200/200\u001b[0m \u001b[32m━━━━━━━━━━━━━━━━━━━━\u001b[0m\u001b[37m\u001b[0m \u001b[1m0s\u001b[0m 2ms/step - accuracy: 0.8685 - loss: 0.3254 - val_accuracy: 0.8519 - val_loss: 0.3439\n",
      "Epoch 62/100\n",
      "\u001b[1m200/200\u001b[0m \u001b[32m━━━━━━━━━━━━━━━━━━━━\u001b[0m\u001b[37m\u001b[0m \u001b[1m0s\u001b[0m 2ms/step - accuracy: 0.8671 - loss: 0.3147 - val_accuracy: 0.8544 - val_loss: 0.3450\n",
      "Epoch 63/100\n",
      "\u001b[1m200/200\u001b[0m \u001b[32m━━━━━━━━━━━━━━━━━━━━\u001b[0m\u001b[37m\u001b[0m \u001b[1m0s\u001b[0m 2ms/step - accuracy: 0.8656 - loss: 0.3257 - val_accuracy: 0.8506 - val_loss: 0.3436\n",
      "Epoch 64/100\n",
      "\u001b[1m200/200\u001b[0m \u001b[32m━━━━━━━━━━━━━━━━━━━━\u001b[0m\u001b[37m\u001b[0m \u001b[1m0s\u001b[0m 2ms/step - accuracy: 0.8646 - loss: 0.3243 - val_accuracy: 0.8531 - val_loss: 0.3448\n",
      "Epoch 65/100\n",
      "\u001b[1m200/200\u001b[0m \u001b[32m━━━━━━━━━━━━━━━━━━━━\u001b[0m\u001b[37m\u001b[0m \u001b[1m0s\u001b[0m 2ms/step - accuracy: 0.8613 - loss: 0.3295 - val_accuracy: 0.8537 - val_loss: 0.3459\n",
      "Epoch 66/100\n",
      "\u001b[1m200/200\u001b[0m \u001b[32m━━━━━━━━━━━━━━━━━━━━\u001b[0m\u001b[37m\u001b[0m \u001b[1m0s\u001b[0m 2ms/step - accuracy: 0.8696 - loss: 0.3180 - val_accuracy: 0.8550 - val_loss: 0.3451\n",
      "Epoch 67/100\n",
      "\u001b[1m200/200\u001b[0m \u001b[32m━━━━━━━━━━━━━━━━━━━━\u001b[0m\u001b[37m\u001b[0m \u001b[1m0s\u001b[0m 2ms/step - accuracy: 0.8695 - loss: 0.3246 - val_accuracy: 0.8531 - val_loss: 0.3441\n",
      "Epoch 68/100\n",
      "\u001b[1m200/200\u001b[0m \u001b[32m━━━━━━━━━━━━━━━━━━━━\u001b[0m\u001b[37m\u001b[0m \u001b[1m0s\u001b[0m 2ms/step - accuracy: 0.8590 - loss: 0.3347 - val_accuracy: 0.8550 - val_loss: 0.3440\n",
      "Epoch 69/100\n",
      "\u001b[1m200/200\u001b[0m \u001b[32m━━━━━━━━━━━━━━━━━━━━\u001b[0m\u001b[37m\u001b[0m \u001b[1m0s\u001b[0m 2ms/step - accuracy: 0.8601 - loss: 0.3279 - val_accuracy: 0.8544 - val_loss: 0.3444\n",
      "Epoch 70/100\n",
      "\u001b[1m200/200\u001b[0m \u001b[32m━━━━━━━━━━━━━━━━━━━━\u001b[0m\u001b[37m\u001b[0m \u001b[1m0s\u001b[0m 2ms/step - accuracy: 0.8693 - loss: 0.3169 - val_accuracy: 0.8500 - val_loss: 0.3447\n",
      "Epoch 71/100\n",
      "\u001b[1m200/200\u001b[0m \u001b[32m━━━━━━━━━━━━━━━━━━━━\u001b[0m\u001b[37m\u001b[0m \u001b[1m0s\u001b[0m 2ms/step - accuracy: 0.8639 - loss: 0.3219 - val_accuracy: 0.8562 - val_loss: 0.3471\n",
      "Epoch 72/100\n",
      "\u001b[1m200/200\u001b[0m \u001b[32m━━━━━━━━━━━━━━━━━━━━\u001b[0m\u001b[37m\u001b[0m \u001b[1m0s\u001b[0m 2ms/step - accuracy: 0.8743 - loss: 0.3126 - val_accuracy: 0.8531 - val_loss: 0.3455\n",
      "Epoch 73/100\n",
      "\u001b[1m200/200\u001b[0m \u001b[32m━━━━━━━━━━━━━━━━━━━━\u001b[0m\u001b[37m\u001b[0m \u001b[1m0s\u001b[0m 2ms/step - accuracy: 0.8685 - loss: 0.3194 - val_accuracy: 0.8519 - val_loss: 0.3463\n",
      "Epoch 74/100\n",
      "\u001b[1m200/200\u001b[0m \u001b[32m━━━━━━━━━━━━━━━━━━━━\u001b[0m\u001b[37m\u001b[0m \u001b[1m0s\u001b[0m 2ms/step - accuracy: 0.8681 - loss: 0.3261 - val_accuracy: 0.8531 - val_loss: 0.3447\n",
      "Epoch 75/100\n",
      "\u001b[1m200/200\u001b[0m \u001b[32m━━━━━━━━━━━━━━━━━━━━\u001b[0m\u001b[37m\u001b[0m \u001b[1m0s\u001b[0m 2ms/step - accuracy: 0.8685 - loss: 0.3185 - val_accuracy: 0.8550 - val_loss: 0.3460\n",
      "Epoch 76/100\n",
      "\u001b[1m200/200\u001b[0m \u001b[32m━━━━━━━━━━━━━━━━━━━━\u001b[0m\u001b[37m\u001b[0m \u001b[1m0s\u001b[0m 2ms/step - accuracy: 0.8636 - loss: 0.3235 - val_accuracy: 0.8531 - val_loss: 0.3444\n",
      "Epoch 77/100\n",
      "\u001b[1m200/200\u001b[0m \u001b[32m━━━━━━━━━━━━━━━━━━━━\u001b[0m\u001b[37m\u001b[0m \u001b[1m0s\u001b[0m 2ms/step - accuracy: 0.8702 - loss: 0.3142 - val_accuracy: 0.8481 - val_loss: 0.3450\n",
      "Epoch 78/100\n",
      "\u001b[1m200/200\u001b[0m \u001b[32m━━━━━━━━━━━━━━━━━━━━\u001b[0m\u001b[37m\u001b[0m \u001b[1m0s\u001b[0m 2ms/step - accuracy: 0.8708 - loss: 0.3136 - val_accuracy: 0.8544 - val_loss: 0.3483\n",
      "Epoch 79/100\n",
      "\u001b[1m200/200\u001b[0m \u001b[32m━━━━━━━━━━━━━━━━━━━━\u001b[0m\u001b[37m\u001b[0m \u001b[1m0s\u001b[0m 2ms/step - accuracy: 0.8673 - loss: 0.3218 - val_accuracy: 0.8550 - val_loss: 0.3446\n",
      "Epoch 80/100\n",
      "\u001b[1m200/200\u001b[0m \u001b[32m━━━━━━━━━━━━━━━━━━━━\u001b[0m\u001b[37m\u001b[0m \u001b[1m0s\u001b[0m 2ms/step - accuracy: 0.8651 - loss: 0.3189 - val_accuracy: 0.8544 - val_loss: 0.3442\n",
      "Epoch 81/100\n",
      "\u001b[1m200/200\u001b[0m \u001b[32m━━━━━━━━━━━━━━━━━━━━\u001b[0m\u001b[37m\u001b[0m \u001b[1m0s\u001b[0m 2ms/step - accuracy: 0.8671 - loss: 0.3162 - val_accuracy: 0.8550 - val_loss: 0.3444\n",
      "Epoch 82/100\n",
      "\u001b[1m200/200\u001b[0m \u001b[32m━━━━━━━━━━━━━━━━━━━━\u001b[0m\u001b[37m\u001b[0m \u001b[1m0s\u001b[0m 2ms/step - accuracy: 0.8624 - loss: 0.3300 - val_accuracy: 0.8512 - val_loss: 0.3445\n",
      "Epoch 83/100\n",
      "\u001b[1m200/200\u001b[0m \u001b[32m━━━━━━━━━━━━━━━━━━━━\u001b[0m\u001b[37m\u001b[0m \u001b[1m0s\u001b[0m 2ms/step - accuracy: 0.8669 - loss: 0.3164 - val_accuracy: 0.8531 - val_loss: 0.3446\n",
      "Epoch 84/100\n",
      "\u001b[1m200/200\u001b[0m \u001b[32m━━━━━━━━━━━━━━━━━━━━\u001b[0m\u001b[37m\u001b[0m \u001b[1m0s\u001b[0m 2ms/step - accuracy: 0.8664 - loss: 0.3195 - val_accuracy: 0.8531 - val_loss: 0.3442\n",
      "Epoch 85/100\n",
      "\u001b[1m200/200\u001b[0m \u001b[32m━━━━━━━━━━━━━━━━━━━━\u001b[0m\u001b[37m\u001b[0m \u001b[1m0s\u001b[0m 2ms/step - accuracy: 0.8637 - loss: 0.3225 - val_accuracy: 0.8556 - val_loss: 0.3477\n",
      "Epoch 86/100\n",
      "\u001b[1m200/200\u001b[0m \u001b[32m━━━━━━━━━━━━━━━━━━━━\u001b[0m\u001b[37m\u001b[0m \u001b[1m0s\u001b[0m 2ms/step - accuracy: 0.8766 - loss: 0.3059 - val_accuracy: 0.8537 - val_loss: 0.3460\n",
      "Epoch 87/100\n",
      "\u001b[1m200/200\u001b[0m \u001b[32m━━━━━━━━━━━━━━━━━━━━\u001b[0m\u001b[37m\u001b[0m \u001b[1m0s\u001b[0m 2ms/step - accuracy: 0.8634 - loss: 0.3178 - val_accuracy: 0.8537 - val_loss: 0.3444\n",
      "Epoch 88/100\n",
      "\u001b[1m200/200\u001b[0m \u001b[32m━━━━━━━━━━━━━━━━━━━━\u001b[0m\u001b[37m\u001b[0m \u001b[1m0s\u001b[0m 2ms/step - accuracy: 0.8712 - loss: 0.3135 - val_accuracy: 0.8469 - val_loss: 0.3456\n",
      "Epoch 89/100\n",
      "\u001b[1m200/200\u001b[0m \u001b[32m━━━━━━━━━━━━━━━━━━━━\u001b[0m\u001b[37m\u001b[0m \u001b[1m0s\u001b[0m 2ms/step - accuracy: 0.8746 - loss: 0.3079 - val_accuracy: 0.8494 - val_loss: 0.3464\n",
      "Epoch 90/100\n",
      "\u001b[1m200/200\u001b[0m \u001b[32m━━━━━━━━━━━━━━━━━━━━\u001b[0m\u001b[37m\u001b[0m \u001b[1m0s\u001b[0m 2ms/step - accuracy: 0.8671 - loss: 0.3184 - val_accuracy: 0.8550 - val_loss: 0.3471\n",
      "Epoch 91/100\n",
      "\u001b[1m200/200\u001b[0m \u001b[32m━━━━━━━━━━━━━━━━━━━━\u001b[0m\u001b[37m\u001b[0m \u001b[1m0s\u001b[0m 2ms/step - accuracy: 0.8639 - loss: 0.3268 - val_accuracy: 0.8525 - val_loss: 0.3454\n",
      "Epoch 92/100\n",
      "\u001b[1m200/200\u001b[0m \u001b[32m━━━━━━━━━━━━━━━━━━━━\u001b[0m\u001b[37m\u001b[0m \u001b[1m0s\u001b[0m 2ms/step - accuracy: 0.8676 - loss: 0.3117 - val_accuracy: 0.8500 - val_loss: 0.3455\n",
      "Epoch 93/100\n",
      "\u001b[1m200/200\u001b[0m \u001b[32m━━━━━━━━━━━━━━━━━━━━\u001b[0m\u001b[37m\u001b[0m \u001b[1m0s\u001b[0m 2ms/step - accuracy: 0.8657 - loss: 0.3139 - val_accuracy: 0.8550 - val_loss: 0.3484\n",
      "Epoch 94/100\n",
      "\u001b[1m200/200\u001b[0m \u001b[32m━━━━━━━━━━━━━━━━━━━━\u001b[0m\u001b[37m\u001b[0m \u001b[1m0s\u001b[0m 2ms/step - accuracy: 0.8721 - loss: 0.3125 - val_accuracy: 0.8544 - val_loss: 0.3451\n",
      "Epoch 95/100\n",
      "\u001b[1m200/200\u001b[0m \u001b[32m━━━━━━━━━━━━━━━━━━━━\u001b[0m\u001b[37m\u001b[0m \u001b[1m0s\u001b[0m 2ms/step - accuracy: 0.8633 - loss: 0.3216 - val_accuracy: 0.8550 - val_loss: 0.3447\n",
      "Epoch 96/100\n",
      "\u001b[1m200/200\u001b[0m \u001b[32m━━━━━━━━━━━━━━━━━━━━\u001b[0m\u001b[37m\u001b[0m \u001b[1m0s\u001b[0m 2ms/step - accuracy: 0.8713 - loss: 0.3133 - val_accuracy: 0.8544 - val_loss: 0.3456\n",
      "Epoch 97/100\n",
      "\u001b[1m200/200\u001b[0m \u001b[32m━━━━━━━━━━━━━━━━━━━━\u001b[0m\u001b[37m\u001b[0m \u001b[1m0s\u001b[0m 2ms/step - accuracy: 0.8714 - loss: 0.3215 - val_accuracy: 0.8575 - val_loss: 0.3455\n",
      "Epoch 98/100\n",
      "\u001b[1m200/200\u001b[0m \u001b[32m━━━━━━━━━━━━━━━━━━━━\u001b[0m\u001b[37m\u001b[0m \u001b[1m0s\u001b[0m 2ms/step - accuracy: 0.8678 - loss: 0.3100 - val_accuracy: 0.8562 - val_loss: 0.3468\n",
      "Epoch 99/100\n",
      "\u001b[1m200/200\u001b[0m \u001b[32m━━━━━━━━━━━━━━━━━━━━\u001b[0m\u001b[37m\u001b[0m \u001b[1m0s\u001b[0m 2ms/step - accuracy: 0.8731 - loss: 0.3122 - val_accuracy: 0.8487 - val_loss: 0.3465\n",
      "Epoch 100/100\n",
      "\u001b[1m200/200\u001b[0m \u001b[32m━━━━━━━━━━━━━━━━━━━━\u001b[0m\u001b[37m\u001b[0m \u001b[1m0s\u001b[0m 2ms/step - accuracy: 0.8721 - loss: 0.3138 - val_accuracy: 0.8556 - val_loss: 0.3462\n"
     ]
    },
    {
     "data": {
      "text/plain": [
       "<keras.src.callbacks.history.History at 0x7ae15b38cdf0>"
      ]
     },
     "execution_count": 39,
     "metadata": {},
     "output_type": "execute_result"
    }
   ],
   "source": [
    "model_1.fit(X_train_scaled, y_train, epochs=100, validation_split=0.2, verbose=1)\n"
   ]
  },
  {
   "cell_type": "code",
   "execution_count": 40,
   "id": "954d80c1",
   "metadata": {
    "execution": {
     "iopub.execute_input": "2024-10-10T07:14:46.378355Z",
     "iopub.status.busy": "2024-10-10T07:14:46.377928Z",
     "iopub.status.idle": "2024-10-10T07:15:24.478196Z",
     "shell.execute_reply": "2024-10-10T07:15:24.477048Z"
    },
    "papermill": {
     "duration": 38.226809,
     "end_time": "2024-10-10T07:15:24.481050",
     "exception": false,
     "start_time": "2024-10-10T07:14:46.254241",
     "status": "completed"
    },
    "tags": []
   },
   "outputs": [
    {
     "name": "stdout",
     "output_type": "stream",
     "text": [
      "Epoch 1/100\n",
      "\u001b[1m200/200\u001b[0m \u001b[32m━━━━━━━━━━━━━━━━━━━━\u001b[0m\u001b[37m\u001b[0m \u001b[1m0s\u001b[0m 2ms/step - accuracy: 0.8648 - loss: 0.3225 - val_accuracy: 0.8537 - val_loss: 0.3461\n",
      "Epoch 2/100\n",
      "\u001b[1m200/200\u001b[0m \u001b[32m━━━━━━━━━━━━━━━━━━━━\u001b[0m\u001b[37m\u001b[0m \u001b[1m0s\u001b[0m 2ms/step - accuracy: 0.8715 - loss: 0.3029 - val_accuracy: 0.8506 - val_loss: 0.3460\n",
      "Epoch 3/100\n",
      "\u001b[1m200/200\u001b[0m \u001b[32m━━━━━━━━━━━━━━━━━━━━\u001b[0m\u001b[37m\u001b[0m \u001b[1m0s\u001b[0m 2ms/step - accuracy: 0.8716 - loss: 0.3115 - val_accuracy: 0.8512 - val_loss: 0.3462\n",
      "Epoch 4/100\n",
      "\u001b[1m200/200\u001b[0m \u001b[32m━━━━━━━━━━━━━━━━━━━━\u001b[0m\u001b[37m\u001b[0m \u001b[1m0s\u001b[0m 2ms/step - accuracy: 0.8684 - loss: 0.3139 - val_accuracy: 0.8537 - val_loss: 0.3452\n",
      "Epoch 5/100\n",
      "\u001b[1m200/200\u001b[0m \u001b[32m━━━━━━━━━━━━━━━━━━━━\u001b[0m\u001b[37m\u001b[0m \u001b[1m0s\u001b[0m 2ms/step - accuracy: 0.8622 - loss: 0.3150 - val_accuracy: 0.8556 - val_loss: 0.3480\n",
      "Epoch 6/100\n",
      "\u001b[1m200/200\u001b[0m \u001b[32m━━━━━━━━━━━━━━━━━━━━\u001b[0m\u001b[37m\u001b[0m \u001b[1m0s\u001b[0m 2ms/step - accuracy: 0.8742 - loss: 0.3138 - val_accuracy: 0.8562 - val_loss: 0.3506\n",
      "Epoch 7/100\n",
      "\u001b[1m200/200\u001b[0m \u001b[32m━━━━━━━━━━━━━━━━━━━━\u001b[0m\u001b[37m\u001b[0m \u001b[1m0s\u001b[0m 2ms/step - accuracy: 0.8711 - loss: 0.3152 - val_accuracy: 0.8500 - val_loss: 0.3476\n",
      "Epoch 8/100\n",
      "\u001b[1m200/200\u001b[0m \u001b[32m━━━━━━━━━━━━━━━━━━━━\u001b[0m\u001b[37m\u001b[0m \u001b[1m0s\u001b[0m 2ms/step - accuracy: 0.8678 - loss: 0.3167 - val_accuracy: 0.8531 - val_loss: 0.3460\n",
      "Epoch 9/100\n",
      "\u001b[1m200/200\u001b[0m \u001b[32m━━━━━━━━━━━━━━━━━━━━\u001b[0m\u001b[37m\u001b[0m \u001b[1m0s\u001b[0m 2ms/step - accuracy: 0.8679 - loss: 0.3156 - val_accuracy: 0.8550 - val_loss: 0.3482\n",
      "Epoch 10/100\n",
      "\u001b[1m200/200\u001b[0m \u001b[32m━━━━━━━━━━━━━━━━━━━━\u001b[0m\u001b[37m\u001b[0m \u001b[1m0s\u001b[0m 2ms/step - accuracy: 0.8639 - loss: 0.3171 - val_accuracy: 0.8525 - val_loss: 0.3470\n",
      "Epoch 11/100\n",
      "\u001b[1m200/200\u001b[0m \u001b[32m━━━━━━━━━━━━━━━━━━━━\u001b[0m\u001b[37m\u001b[0m \u001b[1m0s\u001b[0m 2ms/step - accuracy: 0.8640 - loss: 0.3159 - val_accuracy: 0.8544 - val_loss: 0.3490\n",
      "Epoch 12/100\n",
      "\u001b[1m200/200\u001b[0m \u001b[32m━━━━━━━━━━━━━━━━━━━━\u001b[0m\u001b[37m\u001b[0m \u001b[1m0s\u001b[0m 2ms/step - accuracy: 0.8780 - loss: 0.3029 - val_accuracy: 0.8481 - val_loss: 0.3499\n",
      "Epoch 13/100\n",
      "\u001b[1m200/200\u001b[0m \u001b[32m━━━━━━━━━━━━━━━━━━━━\u001b[0m\u001b[37m\u001b[0m \u001b[1m1s\u001b[0m 2ms/step - accuracy: 0.8662 - loss: 0.3190 - val_accuracy: 0.8519 - val_loss: 0.3475\n",
      "Epoch 14/100\n",
      "\u001b[1m200/200\u001b[0m \u001b[32m━━━━━━━━━━━━━━━━━━━━\u001b[0m\u001b[37m\u001b[0m \u001b[1m0s\u001b[0m 2ms/step - accuracy: 0.8804 - loss: 0.3008 - val_accuracy: 0.8519 - val_loss: 0.3483\n",
      "Epoch 15/100\n",
      "\u001b[1m200/200\u001b[0m \u001b[32m━━━━━━━━━━━━━━━━━━━━\u001b[0m\u001b[37m\u001b[0m \u001b[1m0s\u001b[0m 2ms/step - accuracy: 0.8685 - loss: 0.3146 - val_accuracy: 0.8481 - val_loss: 0.3492\n",
      "Epoch 16/100\n",
      "\u001b[1m200/200\u001b[0m \u001b[32m━━━━━━━━━━━━━━━━━━━━\u001b[0m\u001b[37m\u001b[0m \u001b[1m0s\u001b[0m 2ms/step - accuracy: 0.8746 - loss: 0.3076 - val_accuracy: 0.8531 - val_loss: 0.3479\n",
      "Epoch 17/100\n",
      "\u001b[1m200/200\u001b[0m \u001b[32m━━━━━━━━━━━━━━━━━━━━\u001b[0m\u001b[37m\u001b[0m \u001b[1m0s\u001b[0m 2ms/step - accuracy: 0.8747 - loss: 0.3067 - val_accuracy: 0.8519 - val_loss: 0.3492\n",
      "Epoch 18/100\n",
      "\u001b[1m200/200\u001b[0m \u001b[32m━━━━━━━━━━━━━━━━━━━━\u001b[0m\u001b[37m\u001b[0m \u001b[1m0s\u001b[0m 2ms/step - accuracy: 0.8680 - loss: 0.3148 - val_accuracy: 0.8506 - val_loss: 0.3492\n",
      "Epoch 19/100\n",
      "\u001b[1m200/200\u001b[0m \u001b[32m━━━━━━━━━━━━━━━━━━━━\u001b[0m\u001b[37m\u001b[0m \u001b[1m0s\u001b[0m 2ms/step - accuracy: 0.8686 - loss: 0.3155 - val_accuracy: 0.8512 - val_loss: 0.3476\n",
      "Epoch 20/100\n",
      "\u001b[1m200/200\u001b[0m \u001b[32m━━━━━━━━━━━━━━━━━━━━\u001b[0m\u001b[37m\u001b[0m \u001b[1m0s\u001b[0m 2ms/step - accuracy: 0.8644 - loss: 0.3198 - val_accuracy: 0.8537 - val_loss: 0.3512\n",
      "Epoch 21/100\n",
      "\u001b[1m200/200\u001b[0m \u001b[32m━━━━━━━━━━━━━━━━━━━━\u001b[0m\u001b[37m\u001b[0m \u001b[1m0s\u001b[0m 2ms/step - accuracy: 0.8658 - loss: 0.3200 - val_accuracy: 0.8506 - val_loss: 0.3491\n",
      "Epoch 22/100\n",
      "\u001b[1m200/200\u001b[0m \u001b[32m━━━━━━━━━━━━━━━━━━━━\u001b[0m\u001b[37m\u001b[0m \u001b[1m0s\u001b[0m 2ms/step - accuracy: 0.8708 - loss: 0.3110 - val_accuracy: 0.8506 - val_loss: 0.3495\n",
      "Epoch 23/100\n",
      "\u001b[1m200/200\u001b[0m \u001b[32m━━━━━━━━━━━━━━━━━━━━\u001b[0m\u001b[37m\u001b[0m \u001b[1m0s\u001b[0m 2ms/step - accuracy: 0.8755 - loss: 0.3051 - val_accuracy: 0.8519 - val_loss: 0.3500\n",
      "Epoch 24/100\n",
      "\u001b[1m200/200\u001b[0m \u001b[32m━━━━━━━━━━━━━━━━━━━━\u001b[0m\u001b[37m\u001b[0m \u001b[1m0s\u001b[0m 2ms/step - accuracy: 0.8683 - loss: 0.3179 - val_accuracy: 0.8525 - val_loss: 0.3483\n",
      "Epoch 25/100\n",
      "\u001b[1m200/200\u001b[0m \u001b[32m━━━━━━━━━━━━━━━━━━━━\u001b[0m\u001b[37m\u001b[0m \u001b[1m0s\u001b[0m 2ms/step - accuracy: 0.8711 - loss: 0.3100 - val_accuracy: 0.8531 - val_loss: 0.3490\n",
      "Epoch 26/100\n",
      "\u001b[1m200/200\u001b[0m \u001b[32m━━━━━━━━━━━━━━━━━━━━\u001b[0m\u001b[37m\u001b[0m \u001b[1m0s\u001b[0m 2ms/step - accuracy: 0.8762 - loss: 0.3039 - val_accuracy: 0.8500 - val_loss: 0.3503\n",
      "Epoch 27/100\n",
      "\u001b[1m200/200\u001b[0m \u001b[32m━━━━━━━━━━━━━━━━━━━━\u001b[0m\u001b[37m\u001b[0m \u001b[1m0s\u001b[0m 2ms/step - accuracy: 0.8760 - loss: 0.3003 - val_accuracy: 0.8544 - val_loss: 0.3494\n",
      "Epoch 28/100\n",
      "\u001b[1m200/200\u001b[0m \u001b[32m━━━━━━━━━━━━━━━━━━━━\u001b[0m\u001b[37m\u001b[0m \u001b[1m0s\u001b[0m 2ms/step - accuracy: 0.8687 - loss: 0.3088 - val_accuracy: 0.8556 - val_loss: 0.3524\n",
      "Epoch 29/100\n",
      "\u001b[1m200/200\u001b[0m \u001b[32m━━━━━━━━━━━━━━━━━━━━\u001b[0m\u001b[37m\u001b[0m \u001b[1m0s\u001b[0m 2ms/step - accuracy: 0.8752 - loss: 0.3161 - val_accuracy: 0.8525 - val_loss: 0.3488\n",
      "Epoch 30/100\n",
      "\u001b[1m200/200\u001b[0m \u001b[32m━━━━━━━━━━━━━━━━━━━━\u001b[0m\u001b[37m\u001b[0m \u001b[1m0s\u001b[0m 2ms/step - accuracy: 0.8681 - loss: 0.3118 - val_accuracy: 0.8531 - val_loss: 0.3499\n",
      "Epoch 31/100\n",
      "\u001b[1m200/200\u001b[0m \u001b[32m━━━━━━━━━━━━━━━━━━━━\u001b[0m\u001b[37m\u001b[0m \u001b[1m0s\u001b[0m 2ms/step - accuracy: 0.8696 - loss: 0.3114 - val_accuracy: 0.8487 - val_loss: 0.3501\n",
      "Epoch 32/100\n",
      "\u001b[1m200/200\u001b[0m \u001b[32m━━━━━━━━━━━━━━━━━━━━\u001b[0m\u001b[37m\u001b[0m \u001b[1m0s\u001b[0m 2ms/step - accuracy: 0.8782 - loss: 0.3014 - val_accuracy: 0.8512 - val_loss: 0.3505\n",
      "Epoch 33/100\n",
      "\u001b[1m200/200\u001b[0m \u001b[32m━━━━━━━━━━━━━━━━━━━━\u001b[0m\u001b[37m\u001b[0m \u001b[1m0s\u001b[0m 2ms/step - accuracy: 0.8625 - loss: 0.3217 - val_accuracy: 0.8525 - val_loss: 0.3493\n",
      "Epoch 34/100\n",
      "\u001b[1m200/200\u001b[0m \u001b[32m━━━━━━━━━━━━━━━━━━━━\u001b[0m\u001b[37m\u001b[0m \u001b[1m0s\u001b[0m 2ms/step - accuracy: 0.8791 - loss: 0.2995 - val_accuracy: 0.8512 - val_loss: 0.3504\n",
      "Epoch 35/100\n",
      "\u001b[1m200/200\u001b[0m \u001b[32m━━━━━━━━━━━━━━━━━━━━\u001b[0m\u001b[37m\u001b[0m \u001b[1m0s\u001b[0m 2ms/step - accuracy: 0.8776 - loss: 0.2977 - val_accuracy: 0.8506 - val_loss: 0.3503\n",
      "Epoch 36/100\n",
      "\u001b[1m200/200\u001b[0m \u001b[32m━━━━━━━━━━━━━━━━━━━━\u001b[0m\u001b[37m\u001b[0m \u001b[1m0s\u001b[0m 2ms/step - accuracy: 0.8789 - loss: 0.3065 - val_accuracy: 0.8525 - val_loss: 0.3502\n",
      "Epoch 37/100\n",
      "\u001b[1m200/200\u001b[0m \u001b[32m━━━━━━━━━━━━━━━━━━━━\u001b[0m\u001b[37m\u001b[0m \u001b[1m0s\u001b[0m 2ms/step - accuracy: 0.8741 - loss: 0.3047 - val_accuracy: 0.8562 - val_loss: 0.3513\n",
      "Epoch 38/100\n",
      "\u001b[1m200/200\u001b[0m \u001b[32m━━━━━━━━━━━━━━━━━━━━\u001b[0m\u001b[37m\u001b[0m \u001b[1m0s\u001b[0m 2ms/step - accuracy: 0.8714 - loss: 0.3090 - val_accuracy: 0.8512 - val_loss: 0.3498\n",
      "Epoch 39/100\n",
      "\u001b[1m200/200\u001b[0m \u001b[32m━━━━━━━━━━━━━━━━━━━━\u001b[0m\u001b[37m\u001b[0m \u001b[1m1s\u001b[0m 2ms/step - accuracy: 0.8729 - loss: 0.3154 - val_accuracy: 0.8531 - val_loss: 0.3496\n",
      "Epoch 40/100\n",
      "\u001b[1m200/200\u001b[0m \u001b[32m━━━━━━━━━━━━━━━━━━━━\u001b[0m\u001b[37m\u001b[0m \u001b[1m0s\u001b[0m 2ms/step - accuracy: 0.8722 - loss: 0.3105 - val_accuracy: 0.8544 - val_loss: 0.3521\n",
      "Epoch 41/100\n",
      "\u001b[1m200/200\u001b[0m \u001b[32m━━━━━━━━━━━━━━━━━━━━\u001b[0m\u001b[37m\u001b[0m \u001b[1m0s\u001b[0m 2ms/step - accuracy: 0.8704 - loss: 0.3128 - val_accuracy: 0.8500 - val_loss: 0.3501\n",
      "Epoch 42/100\n",
      "\u001b[1m200/200\u001b[0m \u001b[32m━━━━━━━━━━━━━━━━━━━━\u001b[0m\u001b[37m\u001b[0m \u001b[1m0s\u001b[0m 2ms/step - accuracy: 0.8720 - loss: 0.3141 - val_accuracy: 0.8525 - val_loss: 0.3521\n",
      "Epoch 43/100\n",
      "\u001b[1m200/200\u001b[0m \u001b[32m━━━━━━━━━━━━━━━━━━━━\u001b[0m\u001b[37m\u001b[0m \u001b[1m0s\u001b[0m 2ms/step - accuracy: 0.8735 - loss: 0.2993 - val_accuracy: 0.8562 - val_loss: 0.3520\n",
      "Epoch 44/100\n",
      "\u001b[1m200/200\u001b[0m \u001b[32m━━━━━━━━━━━━━━━━━━━━\u001b[0m\u001b[37m\u001b[0m \u001b[1m0s\u001b[0m 2ms/step - accuracy: 0.8720 - loss: 0.3065 - val_accuracy: 0.8500 - val_loss: 0.3508\n",
      "Epoch 45/100\n",
      "\u001b[1m200/200\u001b[0m \u001b[32m━━━━━━━━━━━━━━━━━━━━\u001b[0m\u001b[37m\u001b[0m \u001b[1m0s\u001b[0m 2ms/step - accuracy: 0.8685 - loss: 0.3144 - val_accuracy: 0.8506 - val_loss: 0.3498\n",
      "Epoch 46/100\n",
      "\u001b[1m200/200\u001b[0m \u001b[32m━━━━━━━━━━━━━━━━━━━━\u001b[0m\u001b[37m\u001b[0m \u001b[1m0s\u001b[0m 2ms/step - accuracy: 0.8695 - loss: 0.3112 - val_accuracy: 0.8500 - val_loss: 0.3505\n",
      "Epoch 47/100\n",
      "\u001b[1m200/200\u001b[0m \u001b[32m━━━━━━━━━━━━━━━━━━━━\u001b[0m\u001b[37m\u001b[0m \u001b[1m0s\u001b[0m 2ms/step - accuracy: 0.8699 - loss: 0.3085 - val_accuracy: 0.8506 - val_loss: 0.3507\n",
      "Epoch 48/100\n",
      "\u001b[1m200/200\u001b[0m \u001b[32m━━━━━━━━━━━━━━━━━━━━\u001b[0m\u001b[37m\u001b[0m \u001b[1m0s\u001b[0m 2ms/step - accuracy: 0.8793 - loss: 0.3035 - val_accuracy: 0.8525 - val_loss: 0.3518\n",
      "Epoch 49/100\n",
      "\u001b[1m200/200\u001b[0m \u001b[32m━━━━━━━━━━━━━━━━━━━━\u001b[0m\u001b[37m\u001b[0m \u001b[1m0s\u001b[0m 2ms/step - accuracy: 0.8700 - loss: 0.3181 - val_accuracy: 0.8519 - val_loss: 0.3501\n",
      "Epoch 50/100\n",
      "\u001b[1m200/200\u001b[0m \u001b[32m━━━━━━━━━━━━━━━━━━━━\u001b[0m\u001b[37m\u001b[0m \u001b[1m0s\u001b[0m 2ms/step - accuracy: 0.8716 - loss: 0.3059 - val_accuracy: 0.8525 - val_loss: 0.3496\n",
      "Epoch 51/100\n",
      "\u001b[1m200/200\u001b[0m \u001b[32m━━━━━━━━━━━━━━━━━━━━\u001b[0m\u001b[37m\u001b[0m \u001b[1m0s\u001b[0m 2ms/step - accuracy: 0.8691 - loss: 0.3111 - val_accuracy: 0.8512 - val_loss: 0.3505\n",
      "Epoch 52/100\n",
      "\u001b[1m200/200\u001b[0m \u001b[32m━━━━━━━━━━━━━━━━━━━━\u001b[0m\u001b[37m\u001b[0m \u001b[1m0s\u001b[0m 2ms/step - accuracy: 0.8673 - loss: 0.3196 - val_accuracy: 0.8487 - val_loss: 0.3503\n",
      "Epoch 53/100\n",
      "\u001b[1m200/200\u001b[0m \u001b[32m━━━━━━━━━━━━━━━━━━━━\u001b[0m\u001b[37m\u001b[0m \u001b[1m0s\u001b[0m 2ms/step - accuracy: 0.8741 - loss: 0.3001 - val_accuracy: 0.8537 - val_loss: 0.3508\n",
      "Epoch 54/100\n",
      "\u001b[1m200/200\u001b[0m \u001b[32m━━━━━━━━━━━━━━━━━━━━\u001b[0m\u001b[37m\u001b[0m \u001b[1m0s\u001b[0m 2ms/step - accuracy: 0.8677 - loss: 0.3195 - val_accuracy: 0.8500 - val_loss: 0.3507\n",
      "Epoch 55/100\n",
      "\u001b[1m200/200\u001b[0m \u001b[32m━━━━━━━━━━━━━━━━━━━━\u001b[0m\u001b[37m\u001b[0m \u001b[1m0s\u001b[0m 2ms/step - accuracy: 0.8750 - loss: 0.2995 - val_accuracy: 0.8494 - val_loss: 0.3498\n",
      "Epoch 56/100\n",
      "\u001b[1m200/200\u001b[0m \u001b[32m━━━━━━━━━━━━━━━━━━━━\u001b[0m\u001b[37m\u001b[0m \u001b[1m0s\u001b[0m 2ms/step - accuracy: 0.8729 - loss: 0.3088 - val_accuracy: 0.8494 - val_loss: 0.3506\n",
      "Epoch 57/100\n",
      "\u001b[1m200/200\u001b[0m \u001b[32m━━━━━━━━━━━━━━━━━━━━\u001b[0m\u001b[37m\u001b[0m \u001b[1m0s\u001b[0m 2ms/step - accuracy: 0.8673 - loss: 0.3149 - val_accuracy: 0.8512 - val_loss: 0.3507\n",
      "Epoch 58/100\n",
      "\u001b[1m200/200\u001b[0m \u001b[32m━━━━━━━━━━━━━━━━━━━━\u001b[0m\u001b[37m\u001b[0m \u001b[1m0s\u001b[0m 2ms/step - accuracy: 0.8748 - loss: 0.3094 - val_accuracy: 0.8487 - val_loss: 0.3502\n",
      "Epoch 59/100\n",
      "\u001b[1m200/200\u001b[0m \u001b[32m━━━━━━━━━━━━━━━━━━━━\u001b[0m\u001b[37m\u001b[0m \u001b[1m0s\u001b[0m 2ms/step - accuracy: 0.8858 - loss: 0.2900 - val_accuracy: 0.8500 - val_loss: 0.3524\n",
      "Epoch 60/100\n",
      "\u001b[1m200/200\u001b[0m \u001b[32m━━━━━━━━━━━━━━━━━━━━\u001b[0m\u001b[37m\u001b[0m \u001b[1m0s\u001b[0m 2ms/step - accuracy: 0.8764 - loss: 0.3000 - val_accuracy: 0.8519 - val_loss: 0.3505\n",
      "Epoch 61/100\n",
      "\u001b[1m200/200\u001b[0m \u001b[32m━━━━━━━━━━━━━━━━━━━━\u001b[0m\u001b[37m\u001b[0m \u001b[1m0s\u001b[0m 2ms/step - accuracy: 0.8720 - loss: 0.3110 - val_accuracy: 0.8512 - val_loss: 0.3509\n",
      "Epoch 62/100\n",
      "\u001b[1m200/200\u001b[0m \u001b[32m━━━━━━━━━━━━━━━━━━━━\u001b[0m\u001b[37m\u001b[0m \u001b[1m0s\u001b[0m 2ms/step - accuracy: 0.8683 - loss: 0.3185 - val_accuracy: 0.8500 - val_loss: 0.3513\n",
      "Epoch 63/100\n",
      "\u001b[1m200/200\u001b[0m \u001b[32m━━━━━━━━━━━━━━━━━━━━\u001b[0m\u001b[37m\u001b[0m \u001b[1m0s\u001b[0m 2ms/step - accuracy: 0.8752 - loss: 0.3037 - val_accuracy: 0.8506 - val_loss: 0.3514\n",
      "Epoch 64/100\n",
      "\u001b[1m200/200\u001b[0m \u001b[32m━━━━━━━━━━━━━━━━━━━━\u001b[0m\u001b[37m\u001b[0m \u001b[1m0s\u001b[0m 2ms/step - accuracy: 0.8762 - loss: 0.3022 - val_accuracy: 0.8494 - val_loss: 0.3506\n",
      "Epoch 65/100\n",
      "\u001b[1m200/200\u001b[0m \u001b[32m━━━━━━━━━━━━━━━━━━━━\u001b[0m\u001b[37m\u001b[0m \u001b[1m1s\u001b[0m 2ms/step - accuracy: 0.8676 - loss: 0.3155 - val_accuracy: 0.8506 - val_loss: 0.3504\n",
      "Epoch 66/100\n",
      "\u001b[1m200/200\u001b[0m \u001b[32m━━━━━━━━━━━━━━━━━━━━\u001b[0m\u001b[37m\u001b[0m \u001b[1m0s\u001b[0m 2ms/step - accuracy: 0.8727 - loss: 0.3098 - val_accuracy: 0.8525 - val_loss: 0.3531\n",
      "Epoch 67/100\n",
      "\u001b[1m200/200\u001b[0m \u001b[32m━━━━━━━━━━━━━━━━━━━━\u001b[0m\u001b[37m\u001b[0m \u001b[1m0s\u001b[0m 2ms/step - accuracy: 0.8788 - loss: 0.2989 - val_accuracy: 0.8525 - val_loss: 0.3507\n",
      "Epoch 68/100\n",
      "\u001b[1m200/200\u001b[0m \u001b[32m━━━━━━━━━━━━━━━━━━━━\u001b[0m\u001b[37m\u001b[0m \u001b[1m0s\u001b[0m 2ms/step - accuracy: 0.8786 - loss: 0.2957 - val_accuracy: 0.8500 - val_loss: 0.3519\n",
      "Epoch 69/100\n",
      "\u001b[1m200/200\u001b[0m \u001b[32m━━━━━━━━━━━━━━━━━━━━\u001b[0m\u001b[37m\u001b[0m \u001b[1m0s\u001b[0m 2ms/step - accuracy: 0.8789 - loss: 0.2999 - val_accuracy: 0.8475 - val_loss: 0.3518\n",
      "Epoch 70/100\n",
      "\u001b[1m200/200\u001b[0m \u001b[32m━━━━━━━━━━━━━━━━━━━━\u001b[0m\u001b[37m\u001b[0m \u001b[1m0s\u001b[0m 2ms/step - accuracy: 0.8739 - loss: 0.3049 - val_accuracy: 0.8494 - val_loss: 0.3521\n",
      "Epoch 71/100\n",
      "\u001b[1m200/200\u001b[0m \u001b[32m━━━━━━━━━━━━━━━━━━━━\u001b[0m\u001b[37m\u001b[0m \u001b[1m0s\u001b[0m 2ms/step - accuracy: 0.8727 - loss: 0.3043 - val_accuracy: 0.8506 - val_loss: 0.3510\n",
      "Epoch 72/100\n",
      "\u001b[1m200/200\u001b[0m \u001b[32m━━━━━━━━━━━━━━━━━━━━\u001b[0m\u001b[37m\u001b[0m \u001b[1m0s\u001b[0m 2ms/step - accuracy: 0.8771 - loss: 0.2974 - val_accuracy: 0.8494 - val_loss: 0.3515\n",
      "Epoch 73/100\n",
      "\u001b[1m200/200\u001b[0m \u001b[32m━━━━━━━━━━━━━━━━━━━━\u001b[0m\u001b[37m\u001b[0m \u001b[1m0s\u001b[0m 2ms/step - accuracy: 0.8628 - loss: 0.3180 - val_accuracy: 0.8500 - val_loss: 0.3524\n",
      "Epoch 74/100\n",
      "\u001b[1m200/200\u001b[0m \u001b[32m━━━━━━━━━━━━━━━━━━━━\u001b[0m\u001b[37m\u001b[0m \u001b[1m0s\u001b[0m 2ms/step - accuracy: 0.8664 - loss: 0.3157 - val_accuracy: 0.8506 - val_loss: 0.3505\n",
      "Epoch 75/100\n",
      "\u001b[1m200/200\u001b[0m \u001b[32m━━━━━━━━━━━━━━━━━━━━\u001b[0m\u001b[37m\u001b[0m \u001b[1m0s\u001b[0m 2ms/step - accuracy: 0.8733 - loss: 0.3050 - val_accuracy: 0.8487 - val_loss: 0.3521\n",
      "Epoch 76/100\n",
      "\u001b[1m200/200\u001b[0m \u001b[32m━━━━━━━━━━━━━━━━━━━━\u001b[0m\u001b[37m\u001b[0m \u001b[1m0s\u001b[0m 2ms/step - accuracy: 0.8723 - loss: 0.3127 - val_accuracy: 0.8469 - val_loss: 0.3525\n",
      "Epoch 77/100\n",
      "\u001b[1m200/200\u001b[0m \u001b[32m━━━━━━━━━━━━━━━━━━━━\u001b[0m\u001b[37m\u001b[0m \u001b[1m0s\u001b[0m 2ms/step - accuracy: 0.8731 - loss: 0.3062 - val_accuracy: 0.8519 - val_loss: 0.3517\n",
      "Epoch 78/100\n",
      "\u001b[1m200/200\u001b[0m \u001b[32m━━━━━━━━━━━━━━━━━━━━\u001b[0m\u001b[37m\u001b[0m \u001b[1m0s\u001b[0m 2ms/step - accuracy: 0.8797 - loss: 0.2947 - val_accuracy: 0.8519 - val_loss: 0.3536\n",
      "Epoch 79/100\n",
      "\u001b[1m200/200\u001b[0m \u001b[32m━━━━━━━━━━━━━━━━━━━━\u001b[0m\u001b[37m\u001b[0m \u001b[1m0s\u001b[0m 2ms/step - accuracy: 0.8685 - loss: 0.3163 - val_accuracy: 0.8456 - val_loss: 0.3537\n",
      "Epoch 80/100\n",
      "\u001b[1m200/200\u001b[0m \u001b[32m━━━━━━━━━━━━━━━━━━━━\u001b[0m\u001b[37m\u001b[0m \u001b[1m0s\u001b[0m 2ms/step - accuracy: 0.8719 - loss: 0.3037 - val_accuracy: 0.8500 - val_loss: 0.3521\n",
      "Epoch 81/100\n",
      "\u001b[1m200/200\u001b[0m \u001b[32m━━━━━━━━━━━━━━━━━━━━\u001b[0m\u001b[37m\u001b[0m \u001b[1m0s\u001b[0m 2ms/step - accuracy: 0.8741 - loss: 0.3059 - val_accuracy: 0.8487 - val_loss: 0.3518\n",
      "Epoch 82/100\n",
      "\u001b[1m200/200\u001b[0m \u001b[32m━━━━━━━━━━━━━━━━━━━━\u001b[0m\u001b[37m\u001b[0m \u001b[1m0s\u001b[0m 2ms/step - accuracy: 0.8761 - loss: 0.3041 - val_accuracy: 0.8506 - val_loss: 0.3555\n",
      "Epoch 83/100\n",
      "\u001b[1m200/200\u001b[0m \u001b[32m━━━━━━━━━━━━━━━━━━━━\u001b[0m\u001b[37m\u001b[0m \u001b[1m0s\u001b[0m 2ms/step - accuracy: 0.8745 - loss: 0.3116 - val_accuracy: 0.8512 - val_loss: 0.3510\n",
      "Epoch 84/100\n",
      "\u001b[1m200/200\u001b[0m \u001b[32m━━━━━━━━━━━━━━━━━━━━\u001b[0m\u001b[37m\u001b[0m \u001b[1m0s\u001b[0m 2ms/step - accuracy: 0.8731 - loss: 0.3086 - val_accuracy: 0.8487 - val_loss: 0.3530\n",
      "Epoch 85/100\n",
      "\u001b[1m200/200\u001b[0m \u001b[32m━━━━━━━━━━━━━━━━━━━━\u001b[0m\u001b[37m\u001b[0m \u001b[1m0s\u001b[0m 2ms/step - accuracy: 0.8674 - loss: 0.3149 - val_accuracy: 0.8475 - val_loss: 0.3565\n",
      "Epoch 86/100\n",
      "\u001b[1m200/200\u001b[0m \u001b[32m━━━━━━━━━━━━━━━━━━━━\u001b[0m\u001b[37m\u001b[0m \u001b[1m0s\u001b[0m 2ms/step - accuracy: 0.8747 - loss: 0.3088 - val_accuracy: 0.8506 - val_loss: 0.3521\n",
      "Epoch 87/100\n",
      "\u001b[1m200/200\u001b[0m \u001b[32m━━━━━━━━━━━━━━━━━━━━\u001b[0m\u001b[37m\u001b[0m \u001b[1m0s\u001b[0m 2ms/step - accuracy: 0.8721 - loss: 0.3107 - val_accuracy: 0.8506 - val_loss: 0.3518\n",
      "Epoch 88/100\n",
      "\u001b[1m200/200\u001b[0m \u001b[32m━━━━━━━━━━━━━━━━━━━━\u001b[0m\u001b[37m\u001b[0m \u001b[1m0s\u001b[0m 2ms/step - accuracy: 0.8768 - loss: 0.3039 - val_accuracy: 0.8512 - val_loss: 0.3514\n",
      "Epoch 89/100\n",
      "\u001b[1m200/200\u001b[0m \u001b[32m━━━━━━━━━━━━━━━━━━━━\u001b[0m\u001b[37m\u001b[0m \u001b[1m0s\u001b[0m 2ms/step - accuracy: 0.8742 - loss: 0.3076 - val_accuracy: 0.8481 - val_loss: 0.3552\n",
      "Epoch 90/100\n",
      "\u001b[1m200/200\u001b[0m \u001b[32m━━━━━━━━━━━━━━━━━━━━\u001b[0m\u001b[37m\u001b[0m \u001b[1m0s\u001b[0m 2ms/step - accuracy: 0.8740 - loss: 0.3061 - val_accuracy: 0.8494 - val_loss: 0.3533\n",
      "Epoch 91/100\n",
      "\u001b[1m200/200\u001b[0m \u001b[32m━━━━━━━━━━━━━━━━━━━━\u001b[0m\u001b[37m\u001b[0m \u001b[1m0s\u001b[0m 2ms/step - accuracy: 0.8663 - loss: 0.3080 - val_accuracy: 0.8494 - val_loss: 0.3536\n",
      "Epoch 92/100\n",
      "\u001b[1m200/200\u001b[0m \u001b[32m━━━━━━━━━━━━━━━━━━━━\u001b[0m\u001b[37m\u001b[0m \u001b[1m0s\u001b[0m 2ms/step - accuracy: 0.8779 - loss: 0.3001 - val_accuracy: 0.8500 - val_loss: 0.3532\n",
      "Epoch 93/100\n",
      "\u001b[1m200/200\u001b[0m \u001b[32m━━━━━━━━━━━━━━━━━━━━\u001b[0m\u001b[37m\u001b[0m \u001b[1m0s\u001b[0m 2ms/step - accuracy: 0.8669 - loss: 0.3145 - val_accuracy: 0.8475 - val_loss: 0.3530\n",
      "Epoch 94/100\n",
      "\u001b[1m200/200\u001b[0m \u001b[32m━━━━━━━━━━━━━━━━━━━━\u001b[0m\u001b[37m\u001b[0m \u001b[1m0s\u001b[0m 2ms/step - accuracy: 0.8777 - loss: 0.2999 - val_accuracy: 0.8500 - val_loss: 0.3526\n",
      "Epoch 95/100\n",
      "\u001b[1m200/200\u001b[0m \u001b[32m━━━━━━━━━━━━━━━━━━━━\u001b[0m\u001b[37m\u001b[0m \u001b[1m0s\u001b[0m 2ms/step - accuracy: 0.8723 - loss: 0.3089 - val_accuracy: 0.8519 - val_loss: 0.3537\n",
      "Epoch 96/100\n",
      "\u001b[1m200/200\u001b[0m \u001b[32m━━━━━━━━━━━━━━━━━━━━\u001b[0m\u001b[37m\u001b[0m \u001b[1m0s\u001b[0m 2ms/step - accuracy: 0.8750 - loss: 0.3024 - val_accuracy: 0.8487 - val_loss: 0.3533\n",
      "Epoch 97/100\n",
      "\u001b[1m200/200\u001b[0m \u001b[32m━━━━━━━━━━━━━━━━━━━━\u001b[0m\u001b[37m\u001b[0m \u001b[1m0s\u001b[0m 2ms/step - accuracy: 0.8753 - loss: 0.3047 - val_accuracy: 0.8481 - val_loss: 0.3556\n",
      "Epoch 98/100\n",
      "\u001b[1m200/200\u001b[0m \u001b[32m━━━━━━━━━━━━━━━━━━━━\u001b[0m\u001b[37m\u001b[0m \u001b[1m0s\u001b[0m 2ms/step - accuracy: 0.8737 - loss: 0.3023 - val_accuracy: 0.8487 - val_loss: 0.3530\n",
      "Epoch 99/100\n",
      "\u001b[1m200/200\u001b[0m \u001b[32m━━━━━━━━━━━━━━━━━━━━\u001b[0m\u001b[37m\u001b[0m \u001b[1m0s\u001b[0m 2ms/step - accuracy: 0.8764 - loss: 0.3039 - val_accuracy: 0.8500 - val_loss: 0.3554\n",
      "Epoch 100/100\n",
      "\u001b[1m200/200\u001b[0m \u001b[32m━━━━━━━━━━━━━━━━━━━━\u001b[0m\u001b[37m\u001b[0m \u001b[1m0s\u001b[0m 2ms/step - accuracy: 0.8724 - loss: 0.3089 - val_accuracy: 0.8481 - val_loss: 0.3516\n"
     ]
    }
   ],
   "source": [
    "# Showing by saving in history variable inorder to use it as graph in future\n",
    "history = model_1.fit(X_train_scaled, y_train, epochs=100, validation_split=0.2, verbose=1)"
   ]
  },
  {
   "cell_type": "code",
   "execution_count": 41,
   "id": "57dc8179",
   "metadata": {
    "execution": {
     "iopub.execute_input": "2024-10-10T07:15:24.724432Z",
     "iopub.status.busy": "2024-10-10T07:15:24.723192Z",
     "iopub.status.idle": "2024-10-10T07:15:24.728779Z",
     "shell.execute_reply": "2024-10-10T07:15:24.727687Z"
    },
    "papermill": {
     "duration": 0.130034,
     "end_time": "2024-10-10T07:15:24.731189",
     "exception": false,
     "start_time": "2024-10-10T07:15:24.601155",
     "status": "completed"
    },
    "tags": []
   },
   "outputs": [],
   "source": [
    "import matplotlib.pyplot as plt"
   ]
  },
  {
   "cell_type": "code",
   "execution_count": 42,
   "id": "edf3968b",
   "metadata": {
    "execution": {
     "iopub.execute_input": "2024-10-10T07:15:24.969890Z",
     "iopub.status.busy": "2024-10-10T07:15:24.968685Z",
     "iopub.status.idle": "2024-10-10T07:15:24.981041Z",
     "shell.execute_reply": "2024-10-10T07:15:24.979838Z"
    },
    "papermill": {
     "duration": 0.134021,
     "end_time": "2024-10-10T07:15:24.983094",
     "exception": false,
     "start_time": "2024-10-10T07:15:24.849073",
     "status": "completed"
    },
    "tags": []
   },
   "outputs": [
    {
     "data": {
      "text/plain": [
       "{'accuracy': [0.8695312738418579,\n",
       "  0.8681250214576721,\n",
       "  0.8687499761581421,\n",
       "  0.8681250214576721,\n",
       "  0.8693749904632568,\n",
       "  0.8692187666893005,\n",
       "  0.8689062595367432,\n",
       "  0.870312511920929,\n",
       "  0.8690624833106995,\n",
       "  0.8689062595367432,\n",
       "  0.8670312762260437,\n",
       "  0.8709375262260437,\n",
       "  0.8704687356948853,\n",
       "  0.8717187643051147,\n",
       "  0.8690624833106995,\n",
       "  0.8692187666893005,\n",
       "  0.870312511920929,\n",
       "  0.8692187666893005,\n",
       "  0.8700000047683716,\n",
       "  0.8696874976158142,\n",
       "  0.8714062571525574,\n",
       "  0.8696874976158142,\n",
       "  0.8685937523841858,\n",
       "  0.8714062571525574,\n",
       "  0.8684375286102295,\n",
       "  0.8720312714576721,\n",
       "  0.8714062571525574,\n",
       "  0.8693749904632568,\n",
       "  0.8721874952316284,\n",
       "  0.8689062595367432,\n",
       "  0.8706250190734863,\n",
       "  0.8728125095367432,\n",
       "  0.8689062595367432,\n",
       "  0.8715624809265137,\n",
       "  0.8714062571525574,\n",
       "  0.87109375,\n",
       "  0.8700000047683716,\n",
       "  0.8706250190734863,\n",
       "  0.8720312714576721,\n",
       "  0.871874988079071,\n",
       "  0.8715624809265137,\n",
       "  0.8723437786102295,\n",
       "  0.8725000023841858,\n",
       "  0.8721874952316284,\n",
       "  0.8720312714576721,\n",
       "  0.8721874952316284,\n",
       "  0.8701562285423279,\n",
       "  0.8704687356948853,\n",
       "  0.8698437213897705,\n",
       "  0.8715624809265137,\n",
       "  0.8720312714576721,\n",
       "  0.8706250190734863,\n",
       "  0.8701562285423279,\n",
       "  0.8712499737739563,\n",
       "  0.8707812428474426,\n",
       "  0.871874988079071,\n",
       "  0.871874988079071,\n",
       "  0.8726562261581421,\n",
       "  0.8720312714576721,\n",
       "  0.8704687356948853,\n",
       "  0.8712499737739563,\n",
       "  0.8721874952316284,\n",
       "  0.8725000023841858,\n",
       "  0.8714062571525574,\n",
       "  0.8726562261581421,\n",
       "  0.8728125095367432,\n",
       "  0.8720312714576721,\n",
       "  0.8706250190734863,\n",
       "  0.8714062571525574,\n",
       "  0.8712499737739563,\n",
       "  0.8714062571525574,\n",
       "  0.8707812428474426,\n",
       "  0.8701562285423279,\n",
       "  0.8721874952316284,\n",
       "  0.8698437213897705,\n",
       "  0.8714062571525574,\n",
       "  0.8712499737739563,\n",
       "  0.8698437213897705,\n",
       "  0.8726562261581421,\n",
       "  0.8717187643051147,\n",
       "  0.8712499737739563,\n",
       "  0.8734375238418579,\n",
       "  0.8723437786102295,\n",
       "  0.8717187643051147,\n",
       "  0.8714062571525574,\n",
       "  0.8725000023841858,\n",
       "  0.8720312714576721,\n",
       "  0.8717187643051147,\n",
       "  0.8745312690734863,\n",
       "  0.8731250166893005,\n",
       "  0.870312511920929,\n",
       "  0.8729687333106995,\n",
       "  0.8707812428474426,\n",
       "  0.8717187643051147,\n",
       "  0.8732812404632568,\n",
       "  0.8743749856948853,\n",
       "  0.8739062547683716,\n",
       "  0.8704687356948853,\n",
       "  0.8739062547683716,\n",
       "  0.8721874952316284],\n",
       " 'loss': [0.3160353899002075,\n",
       "  0.31561222672462463,\n",
       "  0.31553518772125244,\n",
       "  0.3156217634677887,\n",
       "  0.3148674964904785,\n",
       "  0.3150011897087097,\n",
       "  0.3157287836074829,\n",
       "  0.3147630989551544,\n",
       "  0.31471776962280273,\n",
       "  0.3149290978908539,\n",
       "  0.3150746524333954,\n",
       "  0.3145040273666382,\n",
       "  0.3142146170139313,\n",
       "  0.31418082118034363,\n",
       "  0.3145967423915863,\n",
       "  0.3143519461154938,\n",
       "  0.3141323924064636,\n",
       "  0.31428563594818115,\n",
       "  0.3138315677642822,\n",
       "  0.3134223222732544,\n",
       "  0.3135221004486084,\n",
       "  0.31355711817741394,\n",
       "  0.3135294020175934,\n",
       "  0.313451886177063,\n",
       "  0.31301024556159973,\n",
       "  0.31282079219818115,\n",
       "  0.31250420212745667,\n",
       "  0.3128023147583008,\n",
       "  0.31309404969215393,\n",
       "  0.31294116377830505,\n",
       "  0.3127208948135376,\n",
       "  0.3123159408569336,\n",
       "  0.3125607371330261,\n",
       "  0.3120152950286865,\n",
       "  0.3123011589050293,\n",
       "  0.31301751732826233,\n",
       "  0.31191906332969666,\n",
       "  0.312174916267395,\n",
       "  0.3119834065437317,\n",
       "  0.31177839636802673,\n",
       "  0.3119402229785919,\n",
       "  0.3118073046207428,\n",
       "  0.31155815720558167,\n",
       "  0.31186696887016296,\n",
       "  0.31141898036003113,\n",
       "  0.3112854063510895,\n",
       "  0.31153786182403564,\n",
       "  0.31118181347846985,\n",
       "  0.3110652267932892,\n",
       "  0.3109656572341919,\n",
       "  0.3112097680568695,\n",
       "  0.31096959114074707,\n",
       "  0.3112497627735138,\n",
       "  0.31057363748550415,\n",
       "  0.31089434027671814,\n",
       "  0.31094369292259216,\n",
       "  0.31067749857902527,\n",
       "  0.31071072816848755,\n",
       "  0.310334712266922,\n",
       "  0.3107396960258484,\n",
       "  0.30975180864334106,\n",
       "  0.31046441197395325,\n",
       "  0.3103399872779846,\n",
       "  0.3106558620929718,\n",
       "  0.3099994957447052,\n",
       "  0.31080618500709534,\n",
       "  0.3101550042629242,\n",
       "  0.3094099164009094,\n",
       "  0.31026604771614075,\n",
       "  0.31001797318458557,\n",
       "  0.3096828758716583,\n",
       "  0.30932244658470154,\n",
       "  0.3096938133239746,\n",
       "  0.31003209948539734,\n",
       "  0.30998656153678894,\n",
       "  0.30955812335014343,\n",
       "  0.31023484468460083,\n",
       "  0.3093828856945038,\n",
       "  0.3094862103462219,\n",
       "  0.3087855279445648,\n",
       "  0.3088589906692505,\n",
       "  0.30901408195495605,\n",
       "  0.30933934450149536,\n",
       "  0.30916768312454224,\n",
       "  0.30854332447052,\n",
       "  0.30945366621017456,\n",
       "  0.3088793158531189,\n",
       "  0.3085927665233612,\n",
       "  0.3089486360549927,\n",
       "  0.308956503868103,\n",
       "  0.3081698715686798,\n",
       "  0.3089289665222168,\n",
       "  0.3084387481212616,\n",
       "  0.3086383044719696,\n",
       "  0.3076721429824829,\n",
       "  0.3086819350719452,\n",
       "  0.30825716257095337,\n",
       "  0.30860915780067444,\n",
       "  0.3080534040927887,\n",
       "  0.30796074867248535],\n",
       " 'val_accuracy': [0.8537499904632568,\n",
       "  0.8506249785423279,\n",
       "  0.8512499928474426,\n",
       "  0.8537499904632568,\n",
       "  0.8556249737739563,\n",
       "  0.856249988079071,\n",
       "  0.8500000238418579,\n",
       "  0.8531249761581421,\n",
       "  0.8550000190734863,\n",
       "  0.8525000214576721,\n",
       "  0.8543750047683716,\n",
       "  0.8481249809265137,\n",
       "  0.8518750071525574,\n",
       "  0.8518750071525574,\n",
       "  0.8481249809265137,\n",
       "  0.8531249761581421,\n",
       "  0.8518750071525574,\n",
       "  0.8506249785423279,\n",
       "  0.8512499928474426,\n",
       "  0.8537499904632568,\n",
       "  0.8506249785423279,\n",
       "  0.8506249785423279,\n",
       "  0.8518750071525574,\n",
       "  0.8525000214576721,\n",
       "  0.8531249761581421,\n",
       "  0.8500000238418579,\n",
       "  0.8543750047683716,\n",
       "  0.8556249737739563,\n",
       "  0.8525000214576721,\n",
       "  0.8531249761581421,\n",
       "  0.8487499952316284,\n",
       "  0.8512499928474426,\n",
       "  0.8525000214576721,\n",
       "  0.8512499928474426,\n",
       "  0.8506249785423279,\n",
       "  0.8525000214576721,\n",
       "  0.856249988079071,\n",
       "  0.8512499928474426,\n",
       "  0.8531249761581421,\n",
       "  0.8543750047683716,\n",
       "  0.8500000238418579,\n",
       "  0.8525000214576721,\n",
       "  0.856249988079071,\n",
       "  0.8500000238418579,\n",
       "  0.8506249785423279,\n",
       "  0.8500000238418579,\n",
       "  0.8506249785423279,\n",
       "  0.8525000214576721,\n",
       "  0.8518750071525574,\n",
       "  0.8525000214576721,\n",
       "  0.8512499928474426,\n",
       "  0.8487499952316284,\n",
       "  0.8537499904632568,\n",
       "  0.8500000238418579,\n",
       "  0.8493750095367432,\n",
       "  0.8493750095367432,\n",
       "  0.8512499928474426,\n",
       "  0.8487499952316284,\n",
       "  0.8500000238418579,\n",
       "  0.8518750071525574,\n",
       "  0.8512499928474426,\n",
       "  0.8500000238418579,\n",
       "  0.8506249785423279,\n",
       "  0.8493750095367432,\n",
       "  0.8506249785423279,\n",
       "  0.8525000214576721,\n",
       "  0.8525000214576721,\n",
       "  0.8500000238418579,\n",
       "  0.8475000262260437,\n",
       "  0.8493750095367432,\n",
       "  0.8506249785423279,\n",
       "  0.8493750095367432,\n",
       "  0.8500000238418579,\n",
       "  0.8506249785423279,\n",
       "  0.8487499952316284,\n",
       "  0.846875011920929,\n",
       "  0.8518750071525574,\n",
       "  0.8518750071525574,\n",
       "  0.8456249833106995,\n",
       "  0.8500000238418579,\n",
       "  0.8487499952316284,\n",
       "  0.8506249785423279,\n",
       "  0.8512499928474426,\n",
       "  0.8487499952316284,\n",
       "  0.8475000262260437,\n",
       "  0.8506249785423279,\n",
       "  0.8506249785423279,\n",
       "  0.8512499928474426,\n",
       "  0.8481249809265137,\n",
       "  0.8493750095367432,\n",
       "  0.8493750095367432,\n",
       "  0.8500000238418579,\n",
       "  0.8475000262260437,\n",
       "  0.8500000238418579,\n",
       "  0.8518750071525574,\n",
       "  0.8487499952316284,\n",
       "  0.8481249809265137,\n",
       "  0.8487499952316284,\n",
       "  0.8500000238418579,\n",
       "  0.8481249809265137],\n",
       " 'val_loss': [0.34605446457862854,\n",
       "  0.34604018926620483,\n",
       "  0.3462054133415222,\n",
       "  0.3452205955982208,\n",
       "  0.34799572825431824,\n",
       "  0.35064783692359924,\n",
       "  0.34761887788772583,\n",
       "  0.3460065722465515,\n",
       "  0.3481747806072235,\n",
       "  0.3469603359699249,\n",
       "  0.3490492105484009,\n",
       "  0.34991446137428284,\n",
       "  0.3474870026111603,\n",
       "  0.3482684791088104,\n",
       "  0.34923499822616577,\n",
       "  0.34790512919425964,\n",
       "  0.34923455119132996,\n",
       "  0.34919536113739014,\n",
       "  0.34764525294303894,\n",
       "  0.3511601388454437,\n",
       "  0.34913909435272217,\n",
       "  0.34950241446495056,\n",
       "  0.35003742575645447,\n",
       "  0.3483337461948395,\n",
       "  0.3489987850189209,\n",
       "  0.3502661883831024,\n",
       "  0.34939122200012207,\n",
       "  0.35242611169815063,\n",
       "  0.34876346588134766,\n",
       "  0.349918931722641,\n",
       "  0.35014382004737854,\n",
       "  0.35049235820770264,\n",
       "  0.34928104281425476,\n",
       "  0.35043129324913025,\n",
       "  0.3502899408340454,\n",
       "  0.35024139285087585,\n",
       "  0.3512994050979614,\n",
       "  0.34980228543281555,\n",
       "  0.34956997632980347,\n",
       "  0.35208016633987427,\n",
       "  0.35007530450820923,\n",
       "  0.35211512446403503,\n",
       "  0.3520415425300598,\n",
       "  0.35082095861434937,\n",
       "  0.34975773096084595,\n",
       "  0.3504517674446106,\n",
       "  0.35066384077072144,\n",
       "  0.3518015146255493,\n",
       "  0.3501090705394745,\n",
       "  0.3496202528476715,\n",
       "  0.3505423665046692,\n",
       "  0.3503323495388031,\n",
       "  0.3507794439792633,\n",
       "  0.35069262981414795,\n",
       "  0.34982097148895264,\n",
       "  0.35058221220970154,\n",
       "  0.350729376077652,\n",
       "  0.350202739238739,\n",
       "  0.35242724418640137,\n",
       "  0.35052749514579773,\n",
       "  0.35085350275039673,\n",
       "  0.35131531953811646,\n",
       "  0.3513942062854767,\n",
       "  0.35057583451271057,\n",
       "  0.35044196248054504,\n",
       "  0.35308364033699036,\n",
       "  0.35068851709365845,\n",
       "  0.3519216775894165,\n",
       "  0.35175368189811707,\n",
       "  0.3520526885986328,\n",
       "  0.3509856164455414,\n",
       "  0.3514685332775116,\n",
       "  0.35244810581207275,\n",
       "  0.3505110442638397,\n",
       "  0.3521336615085602,\n",
       "  0.35247689485549927,\n",
       "  0.351713091135025,\n",
       "  0.3536304235458374,\n",
       "  0.35372117161750793,\n",
       "  0.35207027196884155,\n",
       "  0.35176825523376465,\n",
       "  0.3555189371109009,\n",
       "  0.35099995136260986,\n",
       "  0.35296791791915894,\n",
       "  0.35646161437034607,\n",
       "  0.35211440920829773,\n",
       "  0.35181891918182373,\n",
       "  0.35138094425201416,\n",
       "  0.35524991154670715,\n",
       "  0.35333773493766785,\n",
       "  0.35357120633125305,\n",
       "  0.3532200753688812,\n",
       "  0.3530033230781555,\n",
       "  0.35257214307785034,\n",
       "  0.35374072194099426,\n",
       "  0.35327374935150146,\n",
       "  0.35556647181510925,\n",
       "  0.35295209288597107,\n",
       "  0.35539910197257996,\n",
       "  0.3516343832015991]}"
      ]
     },
     "execution_count": 42,
     "metadata": {},
     "output_type": "execute_result"
    }
   ],
   "source": [
    "history.history"
   ]
  },
  {
   "cell_type": "code",
   "execution_count": 43,
   "id": "f9bd49cd",
   "metadata": {
    "execution": {
     "iopub.execute_input": "2024-10-10T07:15:25.227369Z",
     "iopub.status.busy": "2024-10-10T07:15:25.226943Z",
     "iopub.status.idle": "2024-10-10T07:15:25.490191Z",
     "shell.execute_reply": "2024-10-10T07:15:25.488976Z"
    },
    "papermill": {
     "duration": 0.38698,
     "end_time": "2024-10-10T07:15:25.492630",
     "exception": false,
     "start_time": "2024-10-10T07:15:25.105650",
     "status": "completed"
    },
    "tags": []
   },
   "outputs": [
    {
     "data": {
      "text/plain": [
       "[<matplotlib.lines.Line2D at 0x7ae1496ba5c0>]"
      ]
     },
     "execution_count": 43,
     "metadata": {},
     "output_type": "execute_result"
    },
    {
     "data": {
      "image/png": "[encoded data removed]",
      "text/plain": [
       "<Figure size 640x480 with 1 Axes>"
      ]
     },
     "metadata": {},
     "output_type": "display_data"
    }
   ],
   "source": [
    "plt.plot(history.history['loss'])\n",
    "plt.plot(history.history['val_loss'])"
   ]
  },
  {
   "cell_type": "code",
   "execution_count": 44,
   "id": "c819f672",
   "metadata": {
    "execution": {
     "iopub.execute_input": "2024-10-10T07:15:25.738340Z",
     "iopub.status.busy": "2024-10-10T07:15:25.737893Z",
     "iopub.status.idle": "2024-10-10T07:15:25.992760Z",
     "shell.execute_reply": "2024-10-10T07:15:25.991580Z"
    },
    "papermill": {
     "duration": 0.380661,
     "end_time": "2024-10-10T07:15:25.995311",
     "exception": false,
     "start_time": "2024-10-10T07:15:25.614650",
     "status": "completed"
    },
    "tags": []
   },
   "outputs": [
    {
     "data": {
      "text/plain": [
       "[<matplotlib.lines.Line2D at 0x7ae148d1e980>]"
      ]
     },
     "execution_count": 44,
     "metadata": {},
     "output_type": "execute_result"
    },
    {
     "data": {
      "image/png": "[encoded data removed]",
      "text/plain": [
       "<Figure size 640x480 with 1 Axes>"
      ]
     },
     "metadata": {},
     "output_type": "display_data"
    }
   ],
   "source": [
    "plt.plot(history.history['accuracy'])\n",
    "plt.plot(history.history['val_accuracy'])"
   ]
  },
  {
   "cell_type": "code",
   "execution_count": null,
   "id": "d53cf4ee",
   "metadata": {
    "papermill": {
     "duration": 0.129907,
     "end_time": "2024-10-10T07:15:26.273699",
     "exception": false,
     "start_time": "2024-10-10T07:15:26.143792",
     "status": "completed"
    },
    "tags": []
   },
   "outputs": [],
   "source": []
  }
 ],
 "metadata": {
  "kaggle": {
   "accelerator": "none",
   "dataSources": [
    {
     "datasetId": 869651,
     "sourceId": 1481789,
     "sourceType": "datasetVersion"
    }
   ],
   "dockerImageVersionId": 30786,
   "isGpuEnabled": false,
   "isInternetEnabled": false,
   "language": "python",
   "sourceType": "notebook"
  },
  "kernelspec": {
   "display_name": "Python 3",
   "language": "python",
   "name": "python3"
  },
  "language_info": {
   "codemirror_mode": {
    "name": "ipython",
    "version": 3
   },
   "file_extension": ".py",
   "mimetype": "text/x-python",
   "name": "python",
   "nbconvert_exporter": "python",
   "pygments_lexer": "ipython3",
   "version": "3.10.14"
  },
  "papermill": {
   "default_parameters": {},
   "duration": 106.93525,
   "end_time": "2024-10-10T07:15:28.032786",
   "environment_variables": {},
   "exception": null,
   "input_path": "__notebook__.ipynb",
   "output_path": "__notebook__.ipynb",
   "parameters": {},
   "start_time": "2024-10-10T07:13:41.097536",
   "version": "2.6.0"
  }
 },
 "nbformat": 4,
 "nbformat_minor": 5
}
